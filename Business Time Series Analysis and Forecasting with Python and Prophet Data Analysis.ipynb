{
 "cells": [
  {
   "cell_type": "code",
   "execution_count": 1,
   "metadata": {},
   "outputs": [],
   "source": [
    "import warnings\n",
    "import itertools\n",
    "import numpy as np\n",
    "import matplotlib.pyplot as plt\n",
    "warnings.filterwarnings(\"ignore\")\n",
    "plt.style.use('fivethirtyeight')\n",
    "import pandas as pd\n",
    "import statsmodels.api as sm\n",
    "import matplotlib\n",
    "matplotlib.rcParams['axes.labelsize'] = 14\n",
    "matplotlib.rcParams['xtick.labelsize'] = 12\n",
    "matplotlib.rcParams['ytick.labelsize'] = 12\n",
    "matplotlib.rcParams['text.color'] = 'k'"
   ]
  },
  {
   "cell_type": "code",
   "execution_count": 2,
   "metadata": {},
   "outputs": [],
   "source": [
    "df = pd.read_excel(\"C:\\\\Users\\\\ivonnics\\\\Documents\\\\JOSE LUIS\\\\Cursos Cursera\\\\Machine Learning\\\\Sample - Superstore.xls\")"
   ]
  },
  {
   "cell_type": "code",
   "execution_count": 3,
   "metadata": {
    "scrolled": true
   },
   "outputs": [
    {
     "data": {
      "text/html": [
       "<div>\n",
       "<style scoped>\n",
       "    .dataframe tbody tr th:only-of-type {\n",
       "        vertical-align: middle;\n",
       "    }\n",
       "\n",
       "    .dataframe tbody tr th {\n",
       "        vertical-align: top;\n",
       "    }\n",
       "\n",
       "    .dataframe thead th {\n",
       "        text-align: right;\n",
       "    }\n",
       "</style>\n",
       "<table border=\"1\" class=\"dataframe\">\n",
       "  <thead>\n",
       "    <tr style=\"text-align: right;\">\n",
       "      <th></th>\n",
       "      <th>Row ID</th>\n",
       "      <th>Order ID</th>\n",
       "      <th>Order Date</th>\n",
       "      <th>Ship Date</th>\n",
       "      <th>Ship Mode</th>\n",
       "      <th>Customer ID</th>\n",
       "      <th>Customer Name</th>\n",
       "      <th>Segment</th>\n",
       "      <th>Country</th>\n",
       "      <th>City</th>\n",
       "      <th>...</th>\n",
       "      <th>Postal Code</th>\n",
       "      <th>Region</th>\n",
       "      <th>Product ID</th>\n",
       "      <th>Category</th>\n",
       "      <th>Sub-Category</th>\n",
       "      <th>Product Name</th>\n",
       "      <th>Sales</th>\n",
       "      <th>Quantity</th>\n",
       "      <th>Discount</th>\n",
       "      <th>Profit</th>\n",
       "    </tr>\n",
       "  </thead>\n",
       "  <tbody>\n",
       "    <tr>\n",
       "      <th>0</th>\n",
       "      <td>1</td>\n",
       "      <td>CA-2016-152156</td>\n",
       "      <td>2016-11-08</td>\n",
       "      <td>2016-11-11</td>\n",
       "      <td>Second Class</td>\n",
       "      <td>CG-12520</td>\n",
       "      <td>Claire Gute</td>\n",
       "      <td>Consumer</td>\n",
       "      <td>United States</td>\n",
       "      <td>Henderson</td>\n",
       "      <td>...</td>\n",
       "      <td>42420</td>\n",
       "      <td>South</td>\n",
       "      <td>FUR-BO-10001798</td>\n",
       "      <td>Furniture</td>\n",
       "      <td>Bookcases</td>\n",
       "      <td>Bush Somerset Collection Bookcase</td>\n",
       "      <td>261.9600</td>\n",
       "      <td>2</td>\n",
       "      <td>0.00</td>\n",
       "      <td>41.9136</td>\n",
       "    </tr>\n",
       "    <tr>\n",
       "      <th>1</th>\n",
       "      <td>2</td>\n",
       "      <td>CA-2016-152156</td>\n",
       "      <td>2016-11-08</td>\n",
       "      <td>2016-11-11</td>\n",
       "      <td>Second Class</td>\n",
       "      <td>CG-12520</td>\n",
       "      <td>Claire Gute</td>\n",
       "      <td>Consumer</td>\n",
       "      <td>United States</td>\n",
       "      <td>Henderson</td>\n",
       "      <td>...</td>\n",
       "      <td>42420</td>\n",
       "      <td>South</td>\n",
       "      <td>FUR-CH-10000454</td>\n",
       "      <td>Furniture</td>\n",
       "      <td>Chairs</td>\n",
       "      <td>Hon Deluxe Fabric Upholstered Stacking Chairs,...</td>\n",
       "      <td>731.9400</td>\n",
       "      <td>3</td>\n",
       "      <td>0.00</td>\n",
       "      <td>219.5820</td>\n",
       "    </tr>\n",
       "    <tr>\n",
       "      <th>2</th>\n",
       "      <td>3</td>\n",
       "      <td>CA-2016-138688</td>\n",
       "      <td>2016-06-12</td>\n",
       "      <td>2016-06-16</td>\n",
       "      <td>Second Class</td>\n",
       "      <td>DV-13045</td>\n",
       "      <td>Darrin Van Huff</td>\n",
       "      <td>Corporate</td>\n",
       "      <td>United States</td>\n",
       "      <td>Los Angeles</td>\n",
       "      <td>...</td>\n",
       "      <td>90036</td>\n",
       "      <td>West</td>\n",
       "      <td>OFF-LA-10000240</td>\n",
       "      <td>Office Supplies</td>\n",
       "      <td>Labels</td>\n",
       "      <td>Self-Adhesive Address Labels for Typewriters b...</td>\n",
       "      <td>14.6200</td>\n",
       "      <td>2</td>\n",
       "      <td>0.00</td>\n",
       "      <td>6.8714</td>\n",
       "    </tr>\n",
       "    <tr>\n",
       "      <th>3</th>\n",
       "      <td>4</td>\n",
       "      <td>US-2015-108966</td>\n",
       "      <td>2015-10-11</td>\n",
       "      <td>2015-10-18</td>\n",
       "      <td>Standard Class</td>\n",
       "      <td>SO-20335</td>\n",
       "      <td>Sean O'Donnell</td>\n",
       "      <td>Consumer</td>\n",
       "      <td>United States</td>\n",
       "      <td>Fort Lauderdale</td>\n",
       "      <td>...</td>\n",
       "      <td>33311</td>\n",
       "      <td>South</td>\n",
       "      <td>FUR-TA-10000577</td>\n",
       "      <td>Furniture</td>\n",
       "      <td>Tables</td>\n",
       "      <td>Bretford CR4500 Series Slim Rectangular Table</td>\n",
       "      <td>957.5775</td>\n",
       "      <td>5</td>\n",
       "      <td>0.45</td>\n",
       "      <td>-383.0310</td>\n",
       "    </tr>\n",
       "    <tr>\n",
       "      <th>4</th>\n",
       "      <td>5</td>\n",
       "      <td>US-2015-108966</td>\n",
       "      <td>2015-10-11</td>\n",
       "      <td>2015-10-18</td>\n",
       "      <td>Standard Class</td>\n",
       "      <td>SO-20335</td>\n",
       "      <td>Sean O'Donnell</td>\n",
       "      <td>Consumer</td>\n",
       "      <td>United States</td>\n",
       "      <td>Fort Lauderdale</td>\n",
       "      <td>...</td>\n",
       "      <td>33311</td>\n",
       "      <td>South</td>\n",
       "      <td>OFF-ST-10000760</td>\n",
       "      <td>Office Supplies</td>\n",
       "      <td>Storage</td>\n",
       "      <td>Eldon Fold 'N Roll Cart System</td>\n",
       "      <td>22.3680</td>\n",
       "      <td>2</td>\n",
       "      <td>0.20</td>\n",
       "      <td>2.5164</td>\n",
       "    </tr>\n",
       "  </tbody>\n",
       "</table>\n",
       "<p>5 rows × 21 columns</p>\n",
       "</div>"
      ],
      "text/plain": [
       "   Row ID        Order ID Order Date  Ship Date       Ship Mode Customer ID  \\\n",
       "0       1  CA-2016-152156 2016-11-08 2016-11-11    Second Class    CG-12520   \n",
       "1       2  CA-2016-152156 2016-11-08 2016-11-11    Second Class    CG-12520   \n",
       "2       3  CA-2016-138688 2016-06-12 2016-06-16    Second Class    DV-13045   \n",
       "3       4  US-2015-108966 2015-10-11 2015-10-18  Standard Class    SO-20335   \n",
       "4       5  US-2015-108966 2015-10-11 2015-10-18  Standard Class    SO-20335   \n",
       "\n",
       "     Customer Name    Segment        Country             City    ...     \\\n",
       "0      Claire Gute   Consumer  United States        Henderson    ...      \n",
       "1      Claire Gute   Consumer  United States        Henderson    ...      \n",
       "2  Darrin Van Huff  Corporate  United States      Los Angeles    ...      \n",
       "3   Sean O'Donnell   Consumer  United States  Fort Lauderdale    ...      \n",
       "4   Sean O'Donnell   Consumer  United States  Fort Lauderdale    ...      \n",
       "\n",
       "  Postal Code  Region       Product ID         Category Sub-Category  \\\n",
       "0       42420   South  FUR-BO-10001798        Furniture    Bookcases   \n",
       "1       42420   South  FUR-CH-10000454        Furniture       Chairs   \n",
       "2       90036    West  OFF-LA-10000240  Office Supplies       Labels   \n",
       "3       33311   South  FUR-TA-10000577        Furniture       Tables   \n",
       "4       33311   South  OFF-ST-10000760  Office Supplies      Storage   \n",
       "\n",
       "                                        Product Name     Sales  Quantity  \\\n",
       "0                  Bush Somerset Collection Bookcase  261.9600         2   \n",
       "1  Hon Deluxe Fabric Upholstered Stacking Chairs,...  731.9400         3   \n",
       "2  Self-Adhesive Address Labels for Typewriters b...   14.6200         2   \n",
       "3      Bretford CR4500 Series Slim Rectangular Table  957.5775         5   \n",
       "4                     Eldon Fold 'N Roll Cart System   22.3680         2   \n",
       "\n",
       "   Discount    Profit  \n",
       "0      0.00   41.9136  \n",
       "1      0.00  219.5820  \n",
       "2      0.00    6.8714  \n",
       "3      0.45 -383.0310  \n",
       "4      0.20    2.5164  \n",
       "\n",
       "[5 rows x 21 columns]"
      ]
     },
     "execution_count": 3,
     "metadata": {},
     "output_type": "execute_result"
    }
   ],
   "source": [
    "df.head()"
   ]
  },
  {
   "cell_type": "code",
   "execution_count": 4,
   "metadata": {},
   "outputs": [
    {
     "data": {
      "text/html": [
       "<div>\n",
       "<style scoped>\n",
       "    .dataframe tbody tr th:only-of-type {\n",
       "        vertical-align: middle;\n",
       "    }\n",
       "\n",
       "    .dataframe tbody tr th {\n",
       "        vertical-align: top;\n",
       "    }\n",
       "\n",
       "    .dataframe thead th {\n",
       "        text-align: right;\n",
       "    }\n",
       "</style>\n",
       "<table border=\"1\" class=\"dataframe\">\n",
       "  <thead>\n",
       "    <tr style=\"text-align: right;\">\n",
       "      <th></th>\n",
       "      <th>Row ID</th>\n",
       "      <th>Order ID</th>\n",
       "      <th>Order Date</th>\n",
       "      <th>Ship Date</th>\n",
       "      <th>Ship Mode</th>\n",
       "      <th>Customer ID</th>\n",
       "      <th>Customer Name</th>\n",
       "      <th>Segment</th>\n",
       "      <th>Country</th>\n",
       "      <th>City</th>\n",
       "      <th>...</th>\n",
       "      <th>Postal Code</th>\n",
       "      <th>Region</th>\n",
       "      <th>Product ID</th>\n",
       "      <th>Category</th>\n",
       "      <th>Sub-Category</th>\n",
       "      <th>Product Name</th>\n",
       "      <th>Sales</th>\n",
       "      <th>Quantity</th>\n",
       "      <th>Discount</th>\n",
       "      <th>Profit</th>\n",
       "    </tr>\n",
       "  </thead>\n",
       "  <tbody>\n",
       "    <tr>\n",
       "      <th>9989</th>\n",
       "      <td>9990</td>\n",
       "      <td>CA-2014-110422</td>\n",
       "      <td>2014-01-21</td>\n",
       "      <td>2014-01-23</td>\n",
       "      <td>Second Class</td>\n",
       "      <td>TB-21400</td>\n",
       "      <td>Tom Boeckenhauer</td>\n",
       "      <td>Consumer</td>\n",
       "      <td>United States</td>\n",
       "      <td>Miami</td>\n",
       "      <td>...</td>\n",
       "      <td>33180</td>\n",
       "      <td>South</td>\n",
       "      <td>FUR-FU-10001889</td>\n",
       "      <td>Furniture</td>\n",
       "      <td>Furnishings</td>\n",
       "      <td>Ultra Door Pull Handle</td>\n",
       "      <td>25.248</td>\n",
       "      <td>3</td>\n",
       "      <td>0.2</td>\n",
       "      <td>4.1028</td>\n",
       "    </tr>\n",
       "    <tr>\n",
       "      <th>9990</th>\n",
       "      <td>9991</td>\n",
       "      <td>CA-2017-121258</td>\n",
       "      <td>2017-02-26</td>\n",
       "      <td>2017-03-03</td>\n",
       "      <td>Standard Class</td>\n",
       "      <td>DB-13060</td>\n",
       "      <td>Dave Brooks</td>\n",
       "      <td>Consumer</td>\n",
       "      <td>United States</td>\n",
       "      <td>Costa Mesa</td>\n",
       "      <td>...</td>\n",
       "      <td>92627</td>\n",
       "      <td>West</td>\n",
       "      <td>FUR-FU-10000747</td>\n",
       "      <td>Furniture</td>\n",
       "      <td>Furnishings</td>\n",
       "      <td>Tenex B1-RE Series Chair Mats for Low Pile Car...</td>\n",
       "      <td>91.960</td>\n",
       "      <td>2</td>\n",
       "      <td>0.0</td>\n",
       "      <td>15.6332</td>\n",
       "    </tr>\n",
       "    <tr>\n",
       "      <th>9991</th>\n",
       "      <td>9992</td>\n",
       "      <td>CA-2017-121258</td>\n",
       "      <td>2017-02-26</td>\n",
       "      <td>2017-03-03</td>\n",
       "      <td>Standard Class</td>\n",
       "      <td>DB-13060</td>\n",
       "      <td>Dave Brooks</td>\n",
       "      <td>Consumer</td>\n",
       "      <td>United States</td>\n",
       "      <td>Costa Mesa</td>\n",
       "      <td>...</td>\n",
       "      <td>92627</td>\n",
       "      <td>West</td>\n",
       "      <td>TEC-PH-10003645</td>\n",
       "      <td>Technology</td>\n",
       "      <td>Phones</td>\n",
       "      <td>Aastra 57i VoIP phone</td>\n",
       "      <td>258.576</td>\n",
       "      <td>2</td>\n",
       "      <td>0.2</td>\n",
       "      <td>19.3932</td>\n",
       "    </tr>\n",
       "    <tr>\n",
       "      <th>9992</th>\n",
       "      <td>9993</td>\n",
       "      <td>CA-2017-121258</td>\n",
       "      <td>2017-02-26</td>\n",
       "      <td>2017-03-03</td>\n",
       "      <td>Standard Class</td>\n",
       "      <td>DB-13060</td>\n",
       "      <td>Dave Brooks</td>\n",
       "      <td>Consumer</td>\n",
       "      <td>United States</td>\n",
       "      <td>Costa Mesa</td>\n",
       "      <td>...</td>\n",
       "      <td>92627</td>\n",
       "      <td>West</td>\n",
       "      <td>OFF-PA-10004041</td>\n",
       "      <td>Office Supplies</td>\n",
       "      <td>Paper</td>\n",
       "      <td>It's Hot Message Books with Stickers, 2 3/4\" x 5\"</td>\n",
       "      <td>29.600</td>\n",
       "      <td>4</td>\n",
       "      <td>0.0</td>\n",
       "      <td>13.3200</td>\n",
       "    </tr>\n",
       "    <tr>\n",
       "      <th>9993</th>\n",
       "      <td>9994</td>\n",
       "      <td>CA-2017-119914</td>\n",
       "      <td>2017-05-04</td>\n",
       "      <td>2017-05-09</td>\n",
       "      <td>Second Class</td>\n",
       "      <td>CC-12220</td>\n",
       "      <td>Chris Cortes</td>\n",
       "      <td>Consumer</td>\n",
       "      <td>United States</td>\n",
       "      <td>Westminster</td>\n",
       "      <td>...</td>\n",
       "      <td>92683</td>\n",
       "      <td>West</td>\n",
       "      <td>OFF-AP-10002684</td>\n",
       "      <td>Office Supplies</td>\n",
       "      <td>Appliances</td>\n",
       "      <td>Acco 7-Outlet Masterpiece Power Center, Wihtou...</td>\n",
       "      <td>243.160</td>\n",
       "      <td>2</td>\n",
       "      <td>0.0</td>\n",
       "      <td>72.9480</td>\n",
       "    </tr>\n",
       "  </tbody>\n",
       "</table>\n",
       "<p>5 rows × 21 columns</p>\n",
       "</div>"
      ],
      "text/plain": [
       "      Row ID        Order ID Order Date  Ship Date       Ship Mode  \\\n",
       "9989    9990  CA-2014-110422 2014-01-21 2014-01-23    Second Class   \n",
       "9990    9991  CA-2017-121258 2017-02-26 2017-03-03  Standard Class   \n",
       "9991    9992  CA-2017-121258 2017-02-26 2017-03-03  Standard Class   \n",
       "9992    9993  CA-2017-121258 2017-02-26 2017-03-03  Standard Class   \n",
       "9993    9994  CA-2017-119914 2017-05-04 2017-05-09    Second Class   \n",
       "\n",
       "     Customer ID     Customer Name   Segment        Country         City  \\\n",
       "9989    TB-21400  Tom Boeckenhauer  Consumer  United States        Miami   \n",
       "9990    DB-13060       Dave Brooks  Consumer  United States   Costa Mesa   \n",
       "9991    DB-13060       Dave Brooks  Consumer  United States   Costa Mesa   \n",
       "9992    DB-13060       Dave Brooks  Consumer  United States   Costa Mesa   \n",
       "9993    CC-12220      Chris Cortes  Consumer  United States  Westminster   \n",
       "\n",
       "       ...    Postal Code  Region       Product ID         Category  \\\n",
       "9989   ...          33180   South  FUR-FU-10001889        Furniture   \n",
       "9990   ...          92627    West  FUR-FU-10000747        Furniture   \n",
       "9991   ...          92627    West  TEC-PH-10003645       Technology   \n",
       "9992   ...          92627    West  OFF-PA-10004041  Office Supplies   \n",
       "9993   ...          92683    West  OFF-AP-10002684  Office Supplies   \n",
       "\n",
       "     Sub-Category                                       Product Name    Sales  \\\n",
       "9989  Furnishings                             Ultra Door Pull Handle   25.248   \n",
       "9990  Furnishings  Tenex B1-RE Series Chair Mats for Low Pile Car...   91.960   \n",
       "9991       Phones                              Aastra 57i VoIP phone  258.576   \n",
       "9992        Paper  It's Hot Message Books with Stickers, 2 3/4\" x 5\"   29.600   \n",
       "9993   Appliances  Acco 7-Outlet Masterpiece Power Center, Wihtou...  243.160   \n",
       "\n",
       "      Quantity  Discount   Profit  \n",
       "9989         3       0.2   4.1028  \n",
       "9990         2       0.0  15.6332  \n",
       "9991         2       0.2  19.3932  \n",
       "9992         4       0.0  13.3200  \n",
       "9993         2       0.0  72.9480  \n",
       "\n",
       "[5 rows x 21 columns]"
      ]
     },
     "execution_count": 4,
     "metadata": {},
     "output_type": "execute_result"
    }
   ],
   "source": [
    "df.tail()"
   ]
  },
  {
   "cell_type": "code",
   "execution_count": 5,
   "metadata": {},
   "outputs": [
    {
     "data": {
      "text/plain": [
       "(9994, 21)"
      ]
     },
     "execution_count": 5,
     "metadata": {},
     "output_type": "execute_result"
    }
   ],
   "source": [
    "df.shape"
   ]
  },
  {
   "cell_type": "code",
   "execution_count": 6,
   "metadata": {},
   "outputs": [
    {
     "data": {
      "text/plain": [
       "Row ID                    int64\n",
       "Order ID                 object\n",
       "Order Date       datetime64[ns]\n",
       "Ship Date        datetime64[ns]\n",
       "Ship Mode                object\n",
       "Customer ID              object\n",
       "Customer Name            object\n",
       "Segment                  object\n",
       "Country                  object\n",
       "City                     object\n",
       "State                    object\n",
       "Postal Code               int64\n",
       "Region                   object\n",
       "Product ID               object\n",
       "Category                 object\n",
       "Sub-Category             object\n",
       "Product Name             object\n",
       "Sales                   float64\n",
       "Quantity                  int64\n",
       "Discount                float64\n",
       "Profit                  float64\n",
       "dtype: object"
      ]
     },
     "execution_count": 6,
     "metadata": {},
     "output_type": "execute_result"
    }
   ],
   "source": [
    "df.dtypes"
   ]
  },
  {
   "cell_type": "code",
   "execution_count": 7,
   "metadata": {},
   "outputs": [
    {
     "data": {
      "text/plain": [
       "array([[1, 'CA-2016-152156', Timestamp('2016-11-08 00:00:00'), ..., 2,\n",
       "        0.0, 41.9136],\n",
       "       [2, 'CA-2016-152156', Timestamp('2016-11-08 00:00:00'), ..., 3,\n",
       "        0.0, 219.58199999999997],\n",
       "       [3, 'CA-2016-138688', Timestamp('2016-06-12 00:00:00'), ..., 2,\n",
       "        0.0, 6.8713999999999995],\n",
       "       ...,\n",
       "       [9992, 'CA-2017-121258', Timestamp('2017-02-26 00:00:00'), ..., 2,\n",
       "        0.2, 19.393200000000007],\n",
       "       [9993, 'CA-2017-121258', Timestamp('2017-02-26 00:00:00'), ..., 4,\n",
       "        0.0, 13.32],\n",
       "       [9994, 'CA-2017-119914', Timestamp('2017-05-04 00:00:00'), ..., 2,\n",
       "        0.0, 72.94799999999998]], dtype=object)"
      ]
     },
     "execution_count": 7,
     "metadata": {},
     "output_type": "execute_result"
    }
   ],
   "source": [
    "df.values"
   ]
  },
  {
   "cell_type": "code",
   "execution_count": 8,
   "metadata": {},
   "outputs": [
    {
     "data": {
      "text/html": [
       "<div>\n",
       "<style scoped>\n",
       "    .dataframe tbody tr th:only-of-type {\n",
       "        vertical-align: middle;\n",
       "    }\n",
       "\n",
       "    .dataframe tbody tr th {\n",
       "        vertical-align: top;\n",
       "    }\n",
       "\n",
       "    .dataframe thead th {\n",
       "        text-align: right;\n",
       "    }\n",
       "</style>\n",
       "<table border=\"1\" class=\"dataframe\">\n",
       "  <thead>\n",
       "    <tr style=\"text-align: right;\">\n",
       "      <th></th>\n",
       "      <th>Row ID</th>\n",
       "      <th>Postal Code</th>\n",
       "      <th>Sales</th>\n",
       "      <th>Quantity</th>\n",
       "      <th>Discount</th>\n",
       "      <th>Profit</th>\n",
       "    </tr>\n",
       "  </thead>\n",
       "  <tbody>\n",
       "    <tr>\n",
       "      <th>count</th>\n",
       "      <td>9994.000000</td>\n",
       "      <td>9994.000000</td>\n",
       "      <td>9994.000000</td>\n",
       "      <td>9994.000000</td>\n",
       "      <td>9994.000000</td>\n",
       "      <td>9994.000000</td>\n",
       "    </tr>\n",
       "    <tr>\n",
       "      <th>mean</th>\n",
       "      <td>4997.500000</td>\n",
       "      <td>55190.379428</td>\n",
       "      <td>229.858001</td>\n",
       "      <td>3.789574</td>\n",
       "      <td>0.156203</td>\n",
       "      <td>28.656896</td>\n",
       "    </tr>\n",
       "    <tr>\n",
       "      <th>std</th>\n",
       "      <td>2885.163629</td>\n",
       "      <td>32063.693350</td>\n",
       "      <td>623.245101</td>\n",
       "      <td>2.225110</td>\n",
       "      <td>0.206452</td>\n",
       "      <td>234.260108</td>\n",
       "    </tr>\n",
       "    <tr>\n",
       "      <th>min</th>\n",
       "      <td>1.000000</td>\n",
       "      <td>1040.000000</td>\n",
       "      <td>0.444000</td>\n",
       "      <td>1.000000</td>\n",
       "      <td>0.000000</td>\n",
       "      <td>-6599.978000</td>\n",
       "    </tr>\n",
       "    <tr>\n",
       "      <th>25%</th>\n",
       "      <td>2499.250000</td>\n",
       "      <td>23223.000000</td>\n",
       "      <td>17.280000</td>\n",
       "      <td>2.000000</td>\n",
       "      <td>0.000000</td>\n",
       "      <td>1.728750</td>\n",
       "    </tr>\n",
       "    <tr>\n",
       "      <th>50%</th>\n",
       "      <td>4997.500000</td>\n",
       "      <td>56430.500000</td>\n",
       "      <td>54.490000</td>\n",
       "      <td>3.000000</td>\n",
       "      <td>0.200000</td>\n",
       "      <td>8.666500</td>\n",
       "    </tr>\n",
       "    <tr>\n",
       "      <th>75%</th>\n",
       "      <td>7495.750000</td>\n",
       "      <td>90008.000000</td>\n",
       "      <td>209.940000</td>\n",
       "      <td>5.000000</td>\n",
       "      <td>0.200000</td>\n",
       "      <td>29.364000</td>\n",
       "    </tr>\n",
       "    <tr>\n",
       "      <th>max</th>\n",
       "      <td>9994.000000</td>\n",
       "      <td>99301.000000</td>\n",
       "      <td>22638.480000</td>\n",
       "      <td>14.000000</td>\n",
       "      <td>0.800000</td>\n",
       "      <td>8399.976000</td>\n",
       "    </tr>\n",
       "  </tbody>\n",
       "</table>\n",
       "</div>"
      ],
      "text/plain": [
       "            Row ID   Postal Code         Sales     Quantity     Discount  \\\n",
       "count  9994.000000   9994.000000   9994.000000  9994.000000  9994.000000   \n",
       "mean   4997.500000  55190.379428    229.858001     3.789574     0.156203   \n",
       "std    2885.163629  32063.693350    623.245101     2.225110     0.206452   \n",
       "min       1.000000   1040.000000      0.444000     1.000000     0.000000   \n",
       "25%    2499.250000  23223.000000     17.280000     2.000000     0.000000   \n",
       "50%    4997.500000  56430.500000     54.490000     3.000000     0.200000   \n",
       "75%    7495.750000  90008.000000    209.940000     5.000000     0.200000   \n",
       "max    9994.000000  99301.000000  22638.480000    14.000000     0.800000   \n",
       "\n",
       "            Profit  \n",
       "count  9994.000000  \n",
       "mean     28.656896  \n",
       "std     234.260108  \n",
       "min   -6599.978000  \n",
       "25%       1.728750  \n",
       "50%       8.666500  \n",
       "75%      29.364000  \n",
       "max    8399.976000  "
      ]
     },
     "execution_count": 8,
     "metadata": {},
     "output_type": "execute_result"
    }
   ],
   "source": [
    "df.describe()"
   ]
  },
  {
   "cell_type": "code",
   "execution_count": 9,
   "metadata": {},
   "outputs": [
    {
     "data": {
      "text/plain": [
       "Category\n",
       "Office Supplies    6026\n",
       "Furniture          2121\n",
       "Technology         1847\n",
       "dtype: int64"
      ]
     },
     "execution_count": 9,
     "metadata": {},
     "output_type": "execute_result"
    }
   ],
   "source": [
    "df.groupby('Category').size().sort_values(ascending=False)"
   ]
  },
  {
   "cell_type": "code",
   "execution_count": 10,
   "metadata": {},
   "outputs": [
    {
     "data": {
      "text/plain": [
       "<matplotlib.axes._subplots.AxesSubplot at 0x149c6437f0>"
      ]
     },
     "execution_count": 10,
     "metadata": {},
     "output_type": "execute_result"
    },
    {
     "data": {
      "image/png": "[encoded data removed]",
      "text/plain": [
       "<Figure size 432x288 with 1 Axes>"
      ]
     },
     "metadata": {
      "needs_background": "light"
     },
     "output_type": "display_data"
    }
   ],
   "source": [
    "df.groupby('Category').size().sort_values(ascending=False).plot.bar()"
   ]
  },
  {
   "cell_type": "code",
   "execution_count": 11,
   "metadata": {},
   "outputs": [
    {
     "data": {
      "text/plain": [
       "Region\n",
       "West       3203\n",
       "East       2848\n",
       "Central    2323\n",
       "South      1620\n",
       "dtype: int64"
      ]
     },
     "execution_count": 11,
     "metadata": {},
     "output_type": "execute_result"
    }
   ],
   "source": [
    "df.groupby('Region').size().sort_values(ascending=False)"
   ]
  },
  {
   "cell_type": "code",
   "execution_count": 12,
   "metadata": {},
   "outputs": [
    {
     "data": {
      "text/plain": [
       "<matplotlib.axes._subplots.AxesSubplot at 0x149c942630>"
      ]
     },
     "execution_count": 12,
     "metadata": {},
     "output_type": "execute_result"
    },
    {
     "data": {
      "image/png": "[encoded data removed]",
      "text/plain": [
       "<Figure size 432x288 with 1 Axes>"
      ]
     },
     "metadata": {
      "needs_background": "light"
     },
     "output_type": "display_data"
    }
   ],
   "source": [
    "df.groupby('Region').size().sort_values(ascending=False).plot.bar()"
   ]
  },
  {
   "cell_type": "code",
   "execution_count": 13,
   "metadata": {},
   "outputs": [
    {
     "data": {
      "text/plain": [
       "State\n",
       "California              2001\n",
       "New York                1128\n",
       "Texas                    985\n",
       "Pennsylvania             587\n",
       "Washington               506\n",
       "Illinois                 492\n",
       "Ohio                     469\n",
       "Florida                  383\n",
       "Michigan                 255\n",
       "North Carolina           249\n",
       "Virginia                 224\n",
       "Arizona                  224\n",
       "Georgia                  184\n",
       "Tennessee                183\n",
       "Colorado                 182\n",
       "Indiana                  149\n",
       "Kentucky                 139\n",
       "Massachusetts            135\n",
       "New Jersey               130\n",
       "Oregon                   124\n",
       "Wisconsin                110\n",
       "Maryland                 105\n",
       "Delaware                  96\n",
       "Minnesota                 89\n",
       "Connecticut               82\n",
       "Missouri                  66\n",
       "Oklahoma                  66\n",
       "Alabama                   61\n",
       "Arkansas                  60\n",
       "Rhode Island              56\n",
       "Mississippi               53\n",
       "Utah                      53\n",
       "Louisiana                 42\n",
       "South Carolina            42\n",
       "Nevada                    39\n",
       "Nebraska                  38\n",
       "New Mexico                37\n",
       "Iowa                      30\n",
       "New Hampshire             27\n",
       "Kansas                    24\n",
       "Idaho                     21\n",
       "Montana                   15\n",
       "South Dakota              12\n",
       "Vermont                   11\n",
       "District of Columbia      10\n",
       "Maine                      8\n",
       "North Dakota               7\n",
       "West Virginia              4\n",
       "Wyoming                    1\n",
       "dtype: int64"
      ]
     },
     "execution_count": 13,
     "metadata": {},
     "output_type": "execute_result"
    }
   ],
   "source": [
    "df.groupby('State').size().sort_values(ascending=False)"
   ]
  },
  {
   "cell_type": "code",
   "execution_count": 14,
   "metadata": {},
   "outputs": [
    {
     "data": {
      "text/plain": [
       "<matplotlib.axes._subplots.AxesSubplot at 0x149c9b2828>"
      ]
     },
     "execution_count": 14,
     "metadata": {},
     "output_type": "execute_result"
    },
    {
     "data": {
      "image/png": "[encoded data removed]",
      "text/plain": [
       "<Figure size 432x288 with 1 Axes>"
      ]
     },
     "metadata": {
      "needs_background": "light"
     },
     "output_type": "display_data"
    }
   ],
   "source": [
    "df.groupby('State').size().sort_values(ascending=False).plot.bar()"
   ]
  },
  {
   "cell_type": "code",
   "execution_count": 15,
   "metadata": {},
   "outputs": [
    {
     "data": {
      "text/plain": [
       "Segment\n",
       "Consumer       5191\n",
       "Corporate      3020\n",
       "Home Office    1783\n",
       "dtype: int64"
      ]
     },
     "execution_count": 15,
     "metadata": {},
     "output_type": "execute_result"
    }
   ],
   "source": [
    "df.groupby('Segment').size().sort_values(ascending=False)"
   ]
  },
  {
   "cell_type": "code",
   "execution_count": 16,
   "metadata": {},
   "outputs": [
    {
     "data": {
      "text/plain": [
       "<matplotlib.axes._subplots.AxesSubplot at 0x149b6b6a90>"
      ]
     },
     "execution_count": 16,
     "metadata": {},
     "output_type": "execute_result"
    },
    {
     "data": {
      "image/png": "[encoded data removed]",
      "text/plain": [
       "<Figure size 432x288 with 1 Axes>"
      ]
     },
     "metadata": {
      "needs_background": "light"
     },
     "output_type": "display_data"
    }
   ],
   "source": [
    "df.groupby('Segment').size().sort_values(ascending=False).plot.bar()"
   ]
  },
  {
   "cell_type": "code",
   "execution_count": 17,
   "metadata": {},
   "outputs": [
    {
     "data": {
      "text/plain": [
       "<matplotlib.axes._subplots.AxesSubplot at 0x149c0a06d8>"
      ]
     },
     "execution_count": 17,
     "metadata": {},
     "output_type": "execute_result"
    },
    {
     "data": {
      "image/png": "[encoded data removed]",
      "text/plain": [
       "<Figure size 432x288 with 1 Axes>"
      ]
     },
     "metadata": {
      "needs_background": "light"
     },
     "output_type": "display_data"
    }
   ],
   "source": [
    "df.groupby('Segment').Sales.sum().plot.bar()"
   ]
  },
  {
   "cell_type": "code",
   "execution_count": 18,
   "metadata": {},
   "outputs": [
    {
     "data": {
      "text/plain": [
       "Customer Name\n",
       "William Brown          37\n",
       "Matt Abelman           34\n",
       "John Lee               34\n",
       "Paul Prost             34\n",
       "Seth Vernon            32\n",
       "Jonathan Doherty       32\n",
       "Chloris Kastensmidt    32\n",
       "Edward Hooks           32\n",
       "Emily Phan             31\n",
       "Arthur Prichep         31\n",
       "Zuschuss Carroll       31\n",
       "dtype: int64"
      ]
     },
     "execution_count": 18,
     "metadata": {},
     "output_type": "execute_result"
    }
   ],
   "source": [
    "df.groupby('Customer Name').size().sort_values(ascending=False)[:11]"
   ]
  },
  {
   "cell_type": "code",
   "execution_count": 19,
   "metadata": {},
   "outputs": [
    {
     "data": {
      "text/plain": [
       "Customer Name\n",
       "Mitch Willingham        1751.292000\n",
       "Sean Miller             1669.536667\n",
       "Tamara Chand            1587.684833\n",
       "Grant Thornton          1558.535333\n",
       "Tom Ashbrook            1459.562000\n",
       "Hunter Lopez            1170.299818\n",
       "Bill Shonely            1166.850333\n",
       "Christopher Conant      1102.642909\n",
       "Stefanie Holloman       1048.196000\n",
       "Christopher Martinez     895.402000\n",
       "Jocasta Rupert           863.880000\n",
       "Name: Sales, dtype: float64"
      ]
     },
     "execution_count": 19,
     "metadata": {},
     "output_type": "execute_result"
    }
   ],
   "source": [
    "df.groupby('Customer Name').Sales.mean().sort_values(ascending=False)[:11]"
   ]
  },
  {
   "cell_type": "code",
   "execution_count": 20,
   "metadata": {},
   "outputs": [
    {
     "data": {
      "text/html": [
       "<div>\n",
       "<style scoped>\n",
       "    .dataframe tbody tr th:only-of-type {\n",
       "        vertical-align: middle;\n",
       "    }\n",
       "\n",
       "    .dataframe tbody tr th {\n",
       "        vertical-align: top;\n",
       "    }\n",
       "\n",
       "    .dataframe thead th {\n",
       "        text-align: right;\n",
       "    }\n",
       "</style>\n",
       "<table border=\"1\" class=\"dataframe\">\n",
       "  <thead>\n",
       "    <tr style=\"text-align: right;\">\n",
       "      <th></th>\n",
       "      <th>Row ID</th>\n",
       "      <th>Order ID</th>\n",
       "      <th>Order Date</th>\n",
       "      <th>Ship Date</th>\n",
       "      <th>Ship Mode</th>\n",
       "      <th>Customer ID</th>\n",
       "      <th>Customer_Name</th>\n",
       "      <th>Segment</th>\n",
       "      <th>Country</th>\n",
       "      <th>City</th>\n",
       "      <th>...</th>\n",
       "      <th>Postal Code</th>\n",
       "      <th>Region</th>\n",
       "      <th>Product ID</th>\n",
       "      <th>Category</th>\n",
       "      <th>Sub-Category</th>\n",
       "      <th>Product Name</th>\n",
       "      <th>Sales</th>\n",
       "      <th>Quantity</th>\n",
       "      <th>Discount</th>\n",
       "      <th>Profit</th>\n",
       "    </tr>\n",
       "  </thead>\n",
       "  <tbody>\n",
       "    <tr>\n",
       "      <th>0</th>\n",
       "      <td>1</td>\n",
       "      <td>CA-2016-152156</td>\n",
       "      <td>2016-11-08</td>\n",
       "      <td>2016-11-11</td>\n",
       "      <td>Second Class</td>\n",
       "      <td>CG-12520</td>\n",
       "      <td>Claire Gute</td>\n",
       "      <td>Consumer</td>\n",
       "      <td>United States</td>\n",
       "      <td>Henderson</td>\n",
       "      <td>...</td>\n",
       "      <td>42420</td>\n",
       "      <td>South</td>\n",
       "      <td>FUR-BO-10001798</td>\n",
       "      <td>Furniture</td>\n",
       "      <td>Bookcases</td>\n",
       "      <td>Bush Somerset Collection Bookcase</td>\n",
       "      <td>261.9600</td>\n",
       "      <td>2</td>\n",
       "      <td>0.00</td>\n",
       "      <td>41.9136</td>\n",
       "    </tr>\n",
       "    <tr>\n",
       "      <th>1</th>\n",
       "      <td>2</td>\n",
       "      <td>CA-2016-152156</td>\n",
       "      <td>2016-11-08</td>\n",
       "      <td>2016-11-11</td>\n",
       "      <td>Second Class</td>\n",
       "      <td>CG-12520</td>\n",
       "      <td>Claire Gute</td>\n",
       "      <td>Consumer</td>\n",
       "      <td>United States</td>\n",
       "      <td>Henderson</td>\n",
       "      <td>...</td>\n",
       "      <td>42420</td>\n",
       "      <td>South</td>\n",
       "      <td>FUR-CH-10000454</td>\n",
       "      <td>Furniture</td>\n",
       "      <td>Chairs</td>\n",
       "      <td>Hon Deluxe Fabric Upholstered Stacking Chairs,...</td>\n",
       "      <td>731.9400</td>\n",
       "      <td>3</td>\n",
       "      <td>0.00</td>\n",
       "      <td>219.5820</td>\n",
       "    </tr>\n",
       "    <tr>\n",
       "      <th>2</th>\n",
       "      <td>3</td>\n",
       "      <td>CA-2016-138688</td>\n",
       "      <td>2016-06-12</td>\n",
       "      <td>2016-06-16</td>\n",
       "      <td>Second Class</td>\n",
       "      <td>DV-13045</td>\n",
       "      <td>Darrin Van Huff</td>\n",
       "      <td>Corporate</td>\n",
       "      <td>United States</td>\n",
       "      <td>Los Angeles</td>\n",
       "      <td>...</td>\n",
       "      <td>90036</td>\n",
       "      <td>West</td>\n",
       "      <td>OFF-LA-10000240</td>\n",
       "      <td>Office Supplies</td>\n",
       "      <td>Labels</td>\n",
       "      <td>Self-Adhesive Address Labels for Typewriters b...</td>\n",
       "      <td>14.6200</td>\n",
       "      <td>2</td>\n",
       "      <td>0.00</td>\n",
       "      <td>6.8714</td>\n",
       "    </tr>\n",
       "    <tr>\n",
       "      <th>3</th>\n",
       "      <td>4</td>\n",
       "      <td>US-2015-108966</td>\n",
       "      <td>2015-10-11</td>\n",
       "      <td>2015-10-18</td>\n",
       "      <td>Standard Class</td>\n",
       "      <td>SO-20335</td>\n",
       "      <td>Sean O'Donnell</td>\n",
       "      <td>Consumer</td>\n",
       "      <td>United States</td>\n",
       "      <td>Fort Lauderdale</td>\n",
       "      <td>...</td>\n",
       "      <td>33311</td>\n",
       "      <td>South</td>\n",
       "      <td>FUR-TA-10000577</td>\n",
       "      <td>Furniture</td>\n",
       "      <td>Tables</td>\n",
       "      <td>Bretford CR4500 Series Slim Rectangular Table</td>\n",
       "      <td>957.5775</td>\n",
       "      <td>5</td>\n",
       "      <td>0.45</td>\n",
       "      <td>-383.0310</td>\n",
       "    </tr>\n",
       "    <tr>\n",
       "      <th>4</th>\n",
       "      <td>5</td>\n",
       "      <td>US-2015-108966</td>\n",
       "      <td>2015-10-11</td>\n",
       "      <td>2015-10-18</td>\n",
       "      <td>Standard Class</td>\n",
       "      <td>SO-20335</td>\n",
       "      <td>Sean O'Donnell</td>\n",
       "      <td>Consumer</td>\n",
       "      <td>United States</td>\n",
       "      <td>Fort Lauderdale</td>\n",
       "      <td>...</td>\n",
       "      <td>33311</td>\n",
       "      <td>South</td>\n",
       "      <td>OFF-ST-10000760</td>\n",
       "      <td>Office Supplies</td>\n",
       "      <td>Storage</td>\n",
       "      <td>Eldon Fold 'N Roll Cart System</td>\n",
       "      <td>22.3680</td>\n",
       "      <td>2</td>\n",
       "      <td>0.20</td>\n",
       "      <td>2.5164</td>\n",
       "    </tr>\n",
       "  </tbody>\n",
       "</table>\n",
       "<p>5 rows × 21 columns</p>\n",
       "</div>"
      ],
      "text/plain": [
       "   Row ID        Order ID Order Date  Ship Date       Ship Mode Customer ID  \\\n",
       "0       1  CA-2016-152156 2016-11-08 2016-11-11    Second Class    CG-12520   \n",
       "1       2  CA-2016-152156 2016-11-08 2016-11-11    Second Class    CG-12520   \n",
       "2       3  CA-2016-138688 2016-06-12 2016-06-16    Second Class    DV-13045   \n",
       "3       4  US-2015-108966 2015-10-11 2015-10-18  Standard Class    SO-20335   \n",
       "4       5  US-2015-108966 2015-10-11 2015-10-18  Standard Class    SO-20335   \n",
       "\n",
       "     Customer_Name    Segment        Country             City    ...     \\\n",
       "0      Claire Gute   Consumer  United States        Henderson    ...      \n",
       "1      Claire Gute   Consumer  United States        Henderson    ...      \n",
       "2  Darrin Van Huff  Corporate  United States      Los Angeles    ...      \n",
       "3   Sean O'Donnell   Consumer  United States  Fort Lauderdale    ...      \n",
       "4   Sean O'Donnell   Consumer  United States  Fort Lauderdale    ...      \n",
       "\n",
       "  Postal Code  Region       Product ID         Category Sub-Category  \\\n",
       "0       42420   South  FUR-BO-10001798        Furniture    Bookcases   \n",
       "1       42420   South  FUR-CH-10000454        Furniture       Chairs   \n",
       "2       90036    West  OFF-LA-10000240  Office Supplies       Labels   \n",
       "3       33311   South  FUR-TA-10000577        Furniture       Tables   \n",
       "4       33311   South  OFF-ST-10000760  Office Supplies      Storage   \n",
       "\n",
       "                                        Product Name     Sales  Quantity  \\\n",
       "0                  Bush Somerset Collection Bookcase  261.9600         2   \n",
       "1  Hon Deluxe Fabric Upholstered Stacking Chairs,...  731.9400         3   \n",
       "2  Self-Adhesive Address Labels for Typewriters b...   14.6200         2   \n",
       "3      Bretford CR4500 Series Slim Rectangular Table  957.5775         5   \n",
       "4                     Eldon Fold 'N Roll Cart System   22.3680         2   \n",
       "\n",
       "   Discount    Profit  \n",
       "0      0.00   41.9136  \n",
       "1      0.00  219.5820  \n",
       "2      0.00    6.8714  \n",
       "3      0.45 -383.0310  \n",
       "4      0.20    2.5164  \n",
       "\n",
       "[5 rows x 21 columns]"
      ]
     },
     "execution_count": 20,
     "metadata": {},
     "output_type": "execute_result"
    }
   ],
   "source": [
    "df.rename(columns={'Customer Name': 'Customer_Name'},inplace=True)\n",
    "df.head()"
   ]
  },
  {
   "cell_type": "code",
   "execution_count": 21,
   "metadata": {},
   "outputs": [
    {
     "data": {
      "text/plain": [
       "6160.102000000001"
      ]
     },
     "execution_count": 21,
     "metadata": {},
     "output_type": "execute_result"
    }
   ],
   "source": [
    "df[df.Customer_Name == 'William Brown'].Sales.sum()"
   ]
  },
  {
   "cell_type": "code",
   "execution_count": 22,
   "metadata": {},
   "outputs": [
    {
     "data": {
      "text/plain": [
       "5253.876"
      ]
     },
     "execution_count": 22,
     "metadata": {},
     "output_type": "execute_result"
    }
   ],
   "source": [
    "df[df.Customer_Name == 'Mitch Willingham'].Sales.sum()"
   ]
  },
  {
   "cell_type": "code",
   "execution_count": 23,
   "metadata": {},
   "outputs": [
    {
     "data": {
      "text/html": [
       "<div>\n",
       "<style scoped>\n",
       "    .dataframe tbody tr th:only-of-type {\n",
       "        vertical-align: middle;\n",
       "    }\n",
       "\n",
       "    .dataframe tbody tr th {\n",
       "        vertical-align: top;\n",
       "    }\n",
       "\n",
       "    .dataframe thead th {\n",
       "        text-align: right;\n",
       "    }\n",
       "</style>\n",
       "<table border=\"1\" class=\"dataframe\">\n",
       "  <thead>\n",
       "    <tr style=\"text-align: right;\">\n",
       "      <th></th>\n",
       "      <th>count</th>\n",
       "      <th>mean</th>\n",
       "      <th>sum</th>\n",
       "    </tr>\n",
       "    <tr>\n",
       "      <th>Customer_Name</th>\n",
       "      <th></th>\n",
       "      <th></th>\n",
       "      <th></th>\n",
       "    </tr>\n",
       "  </thead>\n",
       "  <tbody>\n",
       "    <tr>\n",
       "      <th>William Brown</th>\n",
       "      <td>37</td>\n",
       "      <td>166.489243</td>\n",
       "      <td>6160.1020</td>\n",
       "    </tr>\n",
       "    <tr>\n",
       "      <th>Matt Abelman</th>\n",
       "      <td>34</td>\n",
       "      <td>126.445912</td>\n",
       "      <td>4299.1610</td>\n",
       "    </tr>\n",
       "    <tr>\n",
       "      <th>John Lee</th>\n",
       "      <td>34</td>\n",
       "      <td>288.233029</td>\n",
       "      <td>9799.9230</td>\n",
       "    </tr>\n",
       "    <tr>\n",
       "      <th>Paul Prost</th>\n",
       "      <td>34</td>\n",
       "      <td>213.312000</td>\n",
       "      <td>7252.6080</td>\n",
       "    </tr>\n",
       "    <tr>\n",
       "      <th>Edward Hooks</th>\n",
       "      <td>32</td>\n",
       "      <td>322.215000</td>\n",
       "      <td>10310.8800</td>\n",
       "    </tr>\n",
       "    <tr>\n",
       "      <th>Chloris Kastensmidt</th>\n",
       "      <td>32</td>\n",
       "      <td>98.589219</td>\n",
       "      <td>3154.8550</td>\n",
       "    </tr>\n",
       "    <tr>\n",
       "      <th>Seth Vernon</th>\n",
       "      <td>32</td>\n",
       "      <td>358.467187</td>\n",
       "      <td>11470.9500</td>\n",
       "    </tr>\n",
       "    <tr>\n",
       "      <th>Jonathan Doherty</th>\n",
       "      <td>32</td>\n",
       "      <td>237.839500</td>\n",
       "      <td>7610.8640</td>\n",
       "    </tr>\n",
       "    <tr>\n",
       "      <th>Zuschuss Carroll</th>\n",
       "      <td>31</td>\n",
       "      <td>258.893774</td>\n",
       "      <td>8025.7070</td>\n",
       "    </tr>\n",
       "    <tr>\n",
       "      <th>Arthur Prichep</th>\n",
       "      <td>31</td>\n",
       "      <td>107.211484</td>\n",
       "      <td>3323.5560</td>\n",
       "    </tr>\n",
       "    <tr>\n",
       "      <th>Emily Phan</th>\n",
       "      <td>31</td>\n",
       "      <td>176.711639</td>\n",
       "      <td>5478.0608</td>\n",
       "    </tr>\n",
       "  </tbody>\n",
       "</table>\n",
       "</div>"
      ],
      "text/plain": [
       "                     count        mean         sum\n",
       "Customer_Name                                     \n",
       "William Brown           37  166.489243   6160.1020\n",
       "Matt Abelman            34  126.445912   4299.1610\n",
       "John Lee                34  288.233029   9799.9230\n",
       "Paul Prost              34  213.312000   7252.6080\n",
       "Edward Hooks            32  322.215000  10310.8800\n",
       "Chloris Kastensmidt     32   98.589219   3154.8550\n",
       "Seth Vernon             32  358.467187  11470.9500\n",
       "Jonathan Doherty        32  237.839500   7610.8640\n",
       "Zuschuss Carroll        31  258.893774   8025.7070\n",
       "Arthur Prichep          31  107.211484   3323.5560\n",
       "Emily Phan              31  176.711639   5478.0608"
      ]
     },
     "execution_count": 23,
     "metadata": {},
     "output_type": "execute_result"
    }
   ],
   "source": [
    "df.groupby('Customer_Name').Sales.agg(['count','mean','sum']).sort_values('count',ascending=False)[:11]"
   ]
  },
  {
   "cell_type": "code",
   "execution_count": 24,
   "metadata": {},
   "outputs": [
    {
     "data": {
      "text/html": [
       "<div>\n",
       "<style scoped>\n",
       "    .dataframe tbody tr th:only-of-type {\n",
       "        vertical-align: middle;\n",
       "    }\n",
       "\n",
       "    .dataframe tbody tr th {\n",
       "        vertical-align: top;\n",
       "    }\n",
       "\n",
       "    .dataframe thead th {\n",
       "        text-align: right;\n",
       "    }\n",
       "</style>\n",
       "<table border=\"1\" class=\"dataframe\">\n",
       "  <thead>\n",
       "    <tr style=\"text-align: right;\">\n",
       "      <th></th>\n",
       "      <th>count</th>\n",
       "      <th>mean</th>\n",
       "      <th>sum</th>\n",
       "    </tr>\n",
       "    <tr>\n",
       "      <th>Customer_Name</th>\n",
       "      <th></th>\n",
       "      <th></th>\n",
       "      <th></th>\n",
       "    </tr>\n",
       "  </thead>\n",
       "  <tbody>\n",
       "    <tr>\n",
       "      <th>Sean Miller</th>\n",
       "      <td>15</td>\n",
       "      <td>1669.536667</td>\n",
       "      <td>25043.050</td>\n",
       "    </tr>\n",
       "    <tr>\n",
       "      <th>Tamara Chand</th>\n",
       "      <td>12</td>\n",
       "      <td>1587.684833</td>\n",
       "      <td>19052.218</td>\n",
       "    </tr>\n",
       "    <tr>\n",
       "      <th>Raymond Buch</th>\n",
       "      <td>18</td>\n",
       "      <td>839.852167</td>\n",
       "      <td>15117.339</td>\n",
       "    </tr>\n",
       "    <tr>\n",
       "      <th>Tom Ashbrook</th>\n",
       "      <td>10</td>\n",
       "      <td>1459.562000</td>\n",
       "      <td>14595.620</td>\n",
       "    </tr>\n",
       "    <tr>\n",
       "      <th>Adrian Barton</th>\n",
       "      <td>20</td>\n",
       "      <td>723.678550</td>\n",
       "      <td>14473.571</td>\n",
       "    </tr>\n",
       "    <tr>\n",
       "      <th>Ken Lonsdale</th>\n",
       "      <td>29</td>\n",
       "      <td>488.801000</td>\n",
       "      <td>14175.229</td>\n",
       "    </tr>\n",
       "    <tr>\n",
       "      <th>Sanjit Chand</th>\n",
       "      <td>22</td>\n",
       "      <td>642.833364</td>\n",
       "      <td>14142.334</td>\n",
       "    </tr>\n",
       "    <tr>\n",
       "      <th>Hunter Lopez</th>\n",
       "      <td>11</td>\n",
       "      <td>1170.299818</td>\n",
       "      <td>12873.298</td>\n",
       "    </tr>\n",
       "    <tr>\n",
       "      <th>Sanjit Engle</th>\n",
       "      <td>19</td>\n",
       "      <td>642.602000</td>\n",
       "      <td>12209.438</td>\n",
       "    </tr>\n",
       "    <tr>\n",
       "      <th>Christopher Conant</th>\n",
       "      <td>11</td>\n",
       "      <td>1102.642909</td>\n",
       "      <td>12129.072</td>\n",
       "    </tr>\n",
       "    <tr>\n",
       "      <th>Todd Sumrall</th>\n",
       "      <td>15</td>\n",
       "      <td>792.783400</td>\n",
       "      <td>11891.751</td>\n",
       "    </tr>\n",
       "  </tbody>\n",
       "</table>\n",
       "</div>"
      ],
      "text/plain": [
       "                    count         mean        sum\n",
       "Customer_Name                                    \n",
       "Sean Miller            15  1669.536667  25043.050\n",
       "Tamara Chand           12  1587.684833  19052.218\n",
       "Raymond Buch           18   839.852167  15117.339\n",
       "Tom Ashbrook           10  1459.562000  14595.620\n",
       "Adrian Barton          20   723.678550  14473.571\n",
       "Ken Lonsdale           29   488.801000  14175.229\n",
       "Sanjit Chand           22   642.833364  14142.334\n",
       "Hunter Lopez           11  1170.299818  12873.298\n",
       "Sanjit Engle           19   642.602000  12209.438\n",
       "Christopher Conant     11  1102.642909  12129.072\n",
       "Todd Sumrall           15   792.783400  11891.751"
      ]
     },
     "execution_count": 24,
     "metadata": {},
     "output_type": "execute_result"
    }
   ],
   "source": [
    "df.groupby('Customer_Name').Sales.agg(['count','mean','sum']).sort_values('sum',ascending=False)[:11]"
   ]
  },
  {
   "cell_type": "code",
   "execution_count": 25,
   "metadata": {},
   "outputs": [
    {
     "data": {
      "text/html": [
       "<div>\n",
       "<style scoped>\n",
       "    .dataframe tbody tr th:only-of-type {\n",
       "        vertical-align: middle;\n",
       "    }\n",
       "\n",
       "    .dataframe tbody tr th {\n",
       "        vertical-align: top;\n",
       "    }\n",
       "\n",
       "    .dataframe thead th {\n",
       "        text-align: right;\n",
       "    }\n",
       "</style>\n",
       "<table border=\"1\" class=\"dataframe\">\n",
       "  <thead>\n",
       "    <tr style=\"text-align: right;\">\n",
       "      <th></th>\n",
       "      <th>count</th>\n",
       "      <th>mean</th>\n",
       "      <th>sum</th>\n",
       "    </tr>\n",
       "    <tr>\n",
       "      <th>Customer_Name</th>\n",
       "      <th></th>\n",
       "      <th></th>\n",
       "      <th></th>\n",
       "    </tr>\n",
       "  </thead>\n",
       "  <tbody>\n",
       "    <tr>\n",
       "      <th>Mitch Willingham</th>\n",
       "      <td>3</td>\n",
       "      <td>1751.292000</td>\n",
       "      <td>5253.876</td>\n",
       "    </tr>\n",
       "    <tr>\n",
       "      <th>Sean Miller</th>\n",
       "      <td>15</td>\n",
       "      <td>1669.536667</td>\n",
       "      <td>25043.050</td>\n",
       "    </tr>\n",
       "    <tr>\n",
       "      <th>Tamara Chand</th>\n",
       "      <td>12</td>\n",
       "      <td>1587.684833</td>\n",
       "      <td>19052.218</td>\n",
       "    </tr>\n",
       "    <tr>\n",
       "      <th>Grant Thornton</th>\n",
       "      <td>6</td>\n",
       "      <td>1558.535333</td>\n",
       "      <td>9351.212</td>\n",
       "    </tr>\n",
       "    <tr>\n",
       "      <th>Tom Ashbrook</th>\n",
       "      <td>10</td>\n",
       "      <td>1459.562000</td>\n",
       "      <td>14595.620</td>\n",
       "    </tr>\n",
       "    <tr>\n",
       "      <th>Hunter Lopez</th>\n",
       "      <td>11</td>\n",
       "      <td>1170.299818</td>\n",
       "      <td>12873.298</td>\n",
       "    </tr>\n",
       "    <tr>\n",
       "      <th>Bill Shonely</th>\n",
       "      <td>9</td>\n",
       "      <td>1166.850333</td>\n",
       "      <td>10501.653</td>\n",
       "    </tr>\n",
       "    <tr>\n",
       "      <th>Christopher Conant</th>\n",
       "      <td>11</td>\n",
       "      <td>1102.642909</td>\n",
       "      <td>12129.072</td>\n",
       "    </tr>\n",
       "    <tr>\n",
       "      <th>Stefanie Holloman</th>\n",
       "      <td>2</td>\n",
       "      <td>1048.196000</td>\n",
       "      <td>2096.392</td>\n",
       "    </tr>\n",
       "    <tr>\n",
       "      <th>Christopher Martinez</th>\n",
       "      <td>10</td>\n",
       "      <td>895.402000</td>\n",
       "      <td>8954.020</td>\n",
       "    </tr>\n",
       "    <tr>\n",
       "      <th>Jocasta Rupert</th>\n",
       "      <td>1</td>\n",
       "      <td>863.880000</td>\n",
       "      <td>863.880</td>\n",
       "    </tr>\n",
       "  </tbody>\n",
       "</table>\n",
       "</div>"
      ],
      "text/plain": [
       "                      count         mean        sum\n",
       "Customer_Name                                      \n",
       "Mitch Willingham          3  1751.292000   5253.876\n",
       "Sean Miller              15  1669.536667  25043.050\n",
       "Tamara Chand             12  1587.684833  19052.218\n",
       "Grant Thornton            6  1558.535333   9351.212\n",
       "Tom Ashbrook             10  1459.562000  14595.620\n",
       "Hunter Lopez             11  1170.299818  12873.298\n",
       "Bill Shonely              9  1166.850333  10501.653\n",
       "Christopher Conant       11  1102.642909  12129.072\n",
       "Stefanie Holloman         2  1048.196000   2096.392\n",
       "Christopher Martinez     10   895.402000   8954.020\n",
       "Jocasta Rupert            1   863.880000    863.880"
      ]
     },
     "execution_count": 25,
     "metadata": {},
     "output_type": "execute_result"
    }
   ],
   "source": [
    "df.groupby('Customer_Name').Sales.agg(['count','mean','sum']).sort_values('mean',ascending=False)[:11]"
   ]
  },
  {
   "cell_type": "code",
   "execution_count": 26,
   "metadata": {},
   "outputs": [
    {
     "data": {
      "text/html": [
       "<div>\n",
       "<style scoped>\n",
       "    .dataframe tbody tr th:only-of-type {\n",
       "        vertical-align: middle;\n",
       "    }\n",
       "\n",
       "    .dataframe tbody tr th {\n",
       "        vertical-align: top;\n",
       "    }\n",
       "\n",
       "    .dataframe thead th {\n",
       "        text-align: right;\n",
       "    }\n",
       "</style>\n",
       "<table border=\"1\" class=\"dataframe\">\n",
       "  <thead>\n",
       "    <tr style=\"text-align: right;\">\n",
       "      <th></th>\n",
       "      <th>count</th>\n",
       "      <th>max</th>\n",
       "      <th>mean</th>\n",
       "      <th>sum</th>\n",
       "    </tr>\n",
       "    <tr>\n",
       "      <th>Customer_Name</th>\n",
       "      <th></th>\n",
       "      <th></th>\n",
       "      <th></th>\n",
       "      <th></th>\n",
       "    </tr>\n",
       "  </thead>\n",
       "  <tbody>\n",
       "    <tr>\n",
       "      <th>Sean Miller</th>\n",
       "      <td>15</td>\n",
       "      <td>22638.480</td>\n",
       "      <td>1669.536667</td>\n",
       "      <td>25043.050</td>\n",
       "    </tr>\n",
       "    <tr>\n",
       "      <th>Tamara Chand</th>\n",
       "      <td>12</td>\n",
       "      <td>17499.950</td>\n",
       "      <td>1587.684833</td>\n",
       "      <td>19052.218</td>\n",
       "    </tr>\n",
       "    <tr>\n",
       "      <th>Raymond Buch</th>\n",
       "      <td>18</td>\n",
       "      <td>13999.960</td>\n",
       "      <td>839.852167</td>\n",
       "      <td>15117.339</td>\n",
       "    </tr>\n",
       "    <tr>\n",
       "      <th>Tom Ashbrook</th>\n",
       "      <td>10</td>\n",
       "      <td>11199.968</td>\n",
       "      <td>1459.562000</td>\n",
       "      <td>14595.620</td>\n",
       "    </tr>\n",
       "    <tr>\n",
       "      <th>Hunter Lopez</th>\n",
       "      <td>11</td>\n",
       "      <td>10499.970</td>\n",
       "      <td>1170.299818</td>\n",
       "      <td>12873.298</td>\n",
       "    </tr>\n",
       "    <tr>\n",
       "      <th>Adrian Barton</th>\n",
       "      <td>20</td>\n",
       "      <td>9892.740</td>\n",
       "      <td>723.678550</td>\n",
       "      <td>14473.571</td>\n",
       "    </tr>\n",
       "    <tr>\n",
       "      <th>Sanjit Chand</th>\n",
       "      <td>22</td>\n",
       "      <td>9449.950</td>\n",
       "      <td>642.833364</td>\n",
       "      <td>14142.334</td>\n",
       "    </tr>\n",
       "    <tr>\n",
       "      <th>Bill Shonely</th>\n",
       "      <td>9</td>\n",
       "      <td>9099.930</td>\n",
       "      <td>1166.850333</td>\n",
       "      <td>10501.653</td>\n",
       "    </tr>\n",
       "    <tr>\n",
       "      <th>Sanjit Engle</th>\n",
       "      <td>19</td>\n",
       "      <td>8749.950</td>\n",
       "      <td>642.602000</td>\n",
       "      <td>12209.438</td>\n",
       "    </tr>\n",
       "    <tr>\n",
       "      <th>Christopher Conant</th>\n",
       "      <td>11</td>\n",
       "      <td>8399.976</td>\n",
       "      <td>1102.642909</td>\n",
       "      <td>12129.072</td>\n",
       "    </tr>\n",
       "    <tr>\n",
       "      <th>Ken Lonsdale</th>\n",
       "      <td>29</td>\n",
       "      <td>8187.650</td>\n",
       "      <td>488.801000</td>\n",
       "      <td>14175.229</td>\n",
       "    </tr>\n",
       "  </tbody>\n",
       "</table>\n",
       "</div>"
      ],
      "text/plain": [
       "                    count        max         mean        sum\n",
       "Customer_Name                                               \n",
       "Sean Miller            15  22638.480  1669.536667  25043.050\n",
       "Tamara Chand           12  17499.950  1587.684833  19052.218\n",
       "Raymond Buch           18  13999.960   839.852167  15117.339\n",
       "Tom Ashbrook           10  11199.968  1459.562000  14595.620\n",
       "Hunter Lopez           11  10499.970  1170.299818  12873.298\n",
       "Adrian Barton          20   9892.740   723.678550  14473.571\n",
       "Sanjit Chand           22   9449.950   642.833364  14142.334\n",
       "Bill Shonely            9   9099.930  1166.850333  10501.653\n",
       "Sanjit Engle           19   8749.950   642.602000  12209.438\n",
       "Christopher Conant     11   8399.976  1102.642909  12129.072\n",
       "Ken Lonsdale           29   8187.650   488.801000  14175.229"
      ]
     },
     "execution_count": 26,
     "metadata": {},
     "output_type": "execute_result"
    }
   ],
   "source": [
    "df.groupby('Customer_Name').Sales.agg(['count','max', 'mean','sum']).sort_values('max',ascending=False)[:11]"
   ]
  },
  {
   "cell_type": "code",
   "execution_count": 27,
   "metadata": {},
   "outputs": [
    {
     "data": {
      "text/html": [
       "<div>\n",
       "<style scoped>\n",
       "    .dataframe tbody tr th:only-of-type {\n",
       "        vertical-align: middle;\n",
       "    }\n",
       "\n",
       "    .dataframe tbody tr th {\n",
       "        vertical-align: top;\n",
       "    }\n",
       "\n",
       "    .dataframe thead th {\n",
       "        text-align: right;\n",
       "    }\n",
       "</style>\n",
       "<table border=\"1\" class=\"dataframe\">\n",
       "  <thead>\n",
       "    <tr style=\"text-align: right;\">\n",
       "      <th></th>\n",
       "      <th>count</th>\n",
       "      <th>max</th>\n",
       "      <th>mean</th>\n",
       "      <th>sum</th>\n",
       "    </tr>\n",
       "    <tr>\n",
       "      <th>Customer_Name</th>\n",
       "      <th></th>\n",
       "      <th></th>\n",
       "      <th></th>\n",
       "      <th></th>\n",
       "    </tr>\n",
       "  </thead>\n",
       "  <tbody>\n",
       "    <tr>\n",
       "      <th>Sean Miller</th>\n",
       "      <td>15</td>\n",
       "      <td>22638.480</td>\n",
       "      <td>1669.536667</td>\n",
       "      <td>25043.050</td>\n",
       "    </tr>\n",
       "    <tr>\n",
       "      <th>Tamara Chand</th>\n",
       "      <td>12</td>\n",
       "      <td>17499.950</td>\n",
       "      <td>1587.684833</td>\n",
       "      <td>19052.218</td>\n",
       "    </tr>\n",
       "    <tr>\n",
       "      <th>Raymond Buch</th>\n",
       "      <td>18</td>\n",
       "      <td>13999.960</td>\n",
       "      <td>839.852167</td>\n",
       "      <td>15117.339</td>\n",
       "    </tr>\n",
       "    <tr>\n",
       "      <th>Tom Ashbrook</th>\n",
       "      <td>10</td>\n",
       "      <td>11199.968</td>\n",
       "      <td>1459.562000</td>\n",
       "      <td>14595.620</td>\n",
       "    </tr>\n",
       "    <tr>\n",
       "      <th>Hunter Lopez</th>\n",
       "      <td>11</td>\n",
       "      <td>10499.970</td>\n",
       "      <td>1170.299818</td>\n",
       "      <td>12873.298</td>\n",
       "    </tr>\n",
       "    <tr>\n",
       "      <th>Adrian Barton</th>\n",
       "      <td>20</td>\n",
       "      <td>9892.740</td>\n",
       "      <td>723.678550</td>\n",
       "      <td>14473.571</td>\n",
       "    </tr>\n",
       "    <tr>\n",
       "      <th>Sanjit Chand</th>\n",
       "      <td>22</td>\n",
       "      <td>9449.950</td>\n",
       "      <td>642.833364</td>\n",
       "      <td>14142.334</td>\n",
       "    </tr>\n",
       "    <tr>\n",
       "      <th>Bill Shonely</th>\n",
       "      <td>9</td>\n",
       "      <td>9099.930</td>\n",
       "      <td>1166.850333</td>\n",
       "      <td>10501.653</td>\n",
       "    </tr>\n",
       "    <tr>\n",
       "      <th>Sanjit Engle</th>\n",
       "      <td>19</td>\n",
       "      <td>8749.950</td>\n",
       "      <td>642.602000</td>\n",
       "      <td>12209.438</td>\n",
       "    </tr>\n",
       "    <tr>\n",
       "      <th>Christopher Conant</th>\n",
       "      <td>11</td>\n",
       "      <td>8399.976</td>\n",
       "      <td>1102.642909</td>\n",
       "      <td>12129.072</td>\n",
       "    </tr>\n",
       "    <tr>\n",
       "      <th>Ken Lonsdale</th>\n",
       "      <td>29</td>\n",
       "      <td>8187.650</td>\n",
       "      <td>488.801000</td>\n",
       "      <td>14175.229</td>\n",
       "    </tr>\n",
       "  </tbody>\n",
       "</table>\n",
       "</div>"
      ],
      "text/plain": [
       "                    count        max         mean        sum\n",
       "Customer_Name                                               \n",
       "Sean Miller            15  22638.480  1669.536667  25043.050\n",
       "Tamara Chand           12  17499.950  1587.684833  19052.218\n",
       "Raymond Buch           18  13999.960   839.852167  15117.339\n",
       "Tom Ashbrook           10  11199.968  1459.562000  14595.620\n",
       "Hunter Lopez           11  10499.970  1170.299818  12873.298\n",
       "Adrian Barton          20   9892.740   723.678550  14473.571\n",
       "Sanjit Chand           22   9449.950   642.833364  14142.334\n",
       "Bill Shonely            9   9099.930  1166.850333  10501.653\n",
       "Sanjit Engle           19   8749.950   642.602000  12209.438\n",
       "Christopher Conant     11   8399.976  1102.642909  12129.072\n",
       "Ken Lonsdale           29   8187.650   488.801000  14175.229"
      ]
     },
     "execution_count": 27,
     "metadata": {},
     "output_type": "execute_result"
    }
   ],
   "source": [
    "df.groupby('Customer_Name').Sales.agg(['count','max', 'mean','sum']).sort_values('max',ascending=False)[:11]"
   ]
  },
  {
   "cell_type": "code",
   "execution_count": 28,
   "metadata": {},
   "outputs": [
    {
     "data": {
      "text/html": [
       "<div>\n",
       "<style scoped>\n",
       "    .dataframe tbody tr th:only-of-type {\n",
       "        vertical-align: middle;\n",
       "    }\n",
       "\n",
       "    .dataframe tbody tr th {\n",
       "        vertical-align: top;\n",
       "    }\n",
       "\n",
       "    .dataframe thead th {\n",
       "        text-align: right;\n",
       "    }\n",
       "</style>\n",
       "<table border=\"1\" class=\"dataframe\">\n",
       "  <thead>\n",
       "    <tr style=\"text-align: right;\">\n",
       "      <th></th>\n",
       "      <th>count</th>\n",
       "      <th>max</th>\n",
       "      <th>mean</th>\n",
       "      <th>sum</th>\n",
       "    </tr>\n",
       "    <tr>\n",
       "      <th>Region</th>\n",
       "      <th></th>\n",
       "      <th></th>\n",
       "      <th></th>\n",
       "      <th></th>\n",
       "    </tr>\n",
       "  </thead>\n",
       "  <tbody>\n",
       "    <tr>\n",
       "      <th>West</th>\n",
       "      <td>3203</td>\n",
       "      <td>13999.960</td>\n",
       "      <td>226.493233</td>\n",
       "      <td>725457.8245</td>\n",
       "    </tr>\n",
       "    <tr>\n",
       "      <th>East</th>\n",
       "      <td>2848</td>\n",
       "      <td>11199.968</td>\n",
       "      <td>238.336110</td>\n",
       "      <td>678781.2400</td>\n",
       "    </tr>\n",
       "    <tr>\n",
       "      <th>Central</th>\n",
       "      <td>2323</td>\n",
       "      <td>17499.950</td>\n",
       "      <td>215.772661</td>\n",
       "      <td>501239.8908</td>\n",
       "    </tr>\n",
       "    <tr>\n",
       "      <th>South</th>\n",
       "      <td>1620</td>\n",
       "      <td>22638.480</td>\n",
       "      <td>241.803645</td>\n",
       "      <td>391721.9050</td>\n",
       "    </tr>\n",
       "  </tbody>\n",
       "</table>\n",
       "</div>"
      ],
      "text/plain": [
       "         count        max        mean          sum\n",
       "Region                                            \n",
       "West      3203  13999.960  226.493233  725457.8245\n",
       "East      2848  11199.968  238.336110  678781.2400\n",
       "Central   2323  17499.950  215.772661  501239.8908\n",
       "South     1620  22638.480  241.803645  391721.9050"
      ]
     },
     "execution_count": 28,
     "metadata": {},
     "output_type": "execute_result"
    }
   ],
   "source": [
    "df.groupby('Region').Sales.agg(['count','max', 'mean','sum']).sort_values('sum',ascending=False)[:11]"
   ]
  },
  {
   "cell_type": "code",
   "execution_count": 29,
   "metadata": {},
   "outputs": [
    {
     "data": {
      "text/html": [
       "<div>\n",
       "<style scoped>\n",
       "    .dataframe tbody tr th:only-of-type {\n",
       "        vertical-align: middle;\n",
       "    }\n",
       "\n",
       "    .dataframe tbody tr th {\n",
       "        vertical-align: top;\n",
       "    }\n",
       "\n",
       "    .dataframe thead th {\n",
       "        text-align: right;\n",
       "    }\n",
       "</style>\n",
       "<table border=\"1\" class=\"dataframe\">\n",
       "  <thead>\n",
       "    <tr style=\"text-align: right;\">\n",
       "      <th></th>\n",
       "      <th>count</th>\n",
       "      <th>max</th>\n",
       "      <th>mean</th>\n",
       "      <th>sum</th>\n",
       "    </tr>\n",
       "    <tr>\n",
       "      <th>Segment</th>\n",
       "      <th></th>\n",
       "      <th></th>\n",
       "      <th></th>\n",
       "      <th></th>\n",
       "    </tr>\n",
       "  </thead>\n",
       "  <tbody>\n",
       "    <tr>\n",
       "      <th>Consumer</th>\n",
       "      <td>5191</td>\n",
       "      <td>13999.96</td>\n",
       "      <td>223.733644</td>\n",
       "      <td>1.161401e+06</td>\n",
       "    </tr>\n",
       "    <tr>\n",
       "      <th>Corporate</th>\n",
       "      <td>3020</td>\n",
       "      <td>17499.95</td>\n",
       "      <td>233.823300</td>\n",
       "      <td>7.061464e+05</td>\n",
       "    </tr>\n",
       "    <tr>\n",
       "      <th>Home Office</th>\n",
       "      <td>1783</td>\n",
       "      <td>22638.48</td>\n",
       "      <td>240.972041</td>\n",
       "      <td>4.296531e+05</td>\n",
       "    </tr>\n",
       "  </tbody>\n",
       "</table>\n",
       "</div>"
      ],
      "text/plain": [
       "             count       max        mean           sum\n",
       "Segment                                               \n",
       "Consumer      5191  13999.96  223.733644  1.161401e+06\n",
       "Corporate     3020  17499.95  233.823300  7.061464e+05\n",
       "Home Office   1783  22638.48  240.972041  4.296531e+05"
      ]
     },
     "execution_count": 29,
     "metadata": {},
     "output_type": "execute_result"
    }
   ],
   "source": [
    "df.groupby('Segment').Sales.agg(['count','max','mean','sum']).sort_values('sum',ascending=False)[:11]"
   ]
  },
  {
   "cell_type": "code",
   "execution_count": 30,
   "metadata": {},
   "outputs": [
    {
     "data": {
      "text/html": [
       "<div>\n",
       "<style scoped>\n",
       "    .dataframe tbody tr th:only-of-type {\n",
       "        vertical-align: middle;\n",
       "    }\n",
       "\n",
       "    .dataframe tbody tr th {\n",
       "        vertical-align: top;\n",
       "    }\n",
       "\n",
       "    .dataframe thead th {\n",
       "        text-align: right;\n",
       "    }\n",
       "</style>\n",
       "<table border=\"1\" class=\"dataframe\">\n",
       "  <thead>\n",
       "    <tr style=\"text-align: right;\">\n",
       "      <th></th>\n",
       "      <th>count</th>\n",
       "      <th>max</th>\n",
       "      <th>mean</th>\n",
       "      <th>sum</th>\n",
       "    </tr>\n",
       "    <tr>\n",
       "      <th>Category</th>\n",
       "      <th></th>\n",
       "      <th></th>\n",
       "      <th></th>\n",
       "      <th></th>\n",
       "    </tr>\n",
       "  </thead>\n",
       "  <tbody>\n",
       "    <tr>\n",
       "      <th>Technology</th>\n",
       "      <td>1847</td>\n",
       "      <td>22638.480</td>\n",
       "      <td>452.709276</td>\n",
       "      <td>836154.0330</td>\n",
       "    </tr>\n",
       "    <tr>\n",
       "      <th>Furniture</th>\n",
       "      <td>2121</td>\n",
       "      <td>4416.174</td>\n",
       "      <td>349.834887</td>\n",
       "      <td>741999.7953</td>\n",
       "    </tr>\n",
       "    <tr>\n",
       "      <th>Office Supplies</th>\n",
       "      <td>6026</td>\n",
       "      <td>9892.740</td>\n",
       "      <td>119.324101</td>\n",
       "      <td>719047.0320</td>\n",
       "    </tr>\n",
       "  </tbody>\n",
       "</table>\n",
       "</div>"
      ],
      "text/plain": [
       "                 count        max        mean          sum\n",
       "Category                                                  \n",
       "Technology        1847  22638.480  452.709276  836154.0330\n",
       "Furniture         2121   4416.174  349.834887  741999.7953\n",
       "Office Supplies   6026   9892.740  119.324101  719047.0320"
      ]
     },
     "execution_count": 30,
     "metadata": {},
     "output_type": "execute_result"
    }
   ],
   "source": [
    "df.groupby('Category').Sales.agg(['count','max','mean','sum']).sort_values('sum',ascending=False)[:11]"
   ]
  },
  {
   "cell_type": "code",
   "execution_count": 31,
   "metadata": {},
   "outputs": [
    {
     "data": {
      "text/html": [
       "<div>\n",
       "<style scoped>\n",
       "    .dataframe tbody tr th:only-of-type {\n",
       "        vertical-align: middle;\n",
       "    }\n",
       "\n",
       "    .dataframe tbody tr th {\n",
       "        vertical-align: top;\n",
       "    }\n",
       "\n",
       "    .dataframe thead th {\n",
       "        text-align: right;\n",
       "    }\n",
       "</style>\n",
       "<table border=\"1\" class=\"dataframe\">\n",
       "  <thead>\n",
       "    <tr style=\"text-align: right;\">\n",
       "      <th></th>\n",
       "      <th>count</th>\n",
       "      <th>max</th>\n",
       "      <th>mean</th>\n",
       "      <th>sum</th>\n",
       "    </tr>\n",
       "    <tr>\n",
       "      <th>Sub-Category</th>\n",
       "      <th></th>\n",
       "      <th></th>\n",
       "      <th></th>\n",
       "      <th></th>\n",
       "    </tr>\n",
       "  </thead>\n",
       "  <tbody>\n",
       "    <tr>\n",
       "      <th>Phones</th>\n",
       "      <td>889</td>\n",
       "      <td>4548.810</td>\n",
       "      <td>371.211534</td>\n",
       "      <td>330007.0540</td>\n",
       "    </tr>\n",
       "    <tr>\n",
       "      <th>Chairs</th>\n",
       "      <td>617</td>\n",
       "      <td>4416.174</td>\n",
       "      <td>532.332420</td>\n",
       "      <td>328449.1030</td>\n",
       "    </tr>\n",
       "    <tr>\n",
       "      <th>Storage</th>\n",
       "      <td>846</td>\n",
       "      <td>2934.330</td>\n",
       "      <td>264.590553</td>\n",
       "      <td>223843.6080</td>\n",
       "    </tr>\n",
       "    <tr>\n",
       "      <th>Tables</th>\n",
       "      <td>319</td>\n",
       "      <td>4297.644</td>\n",
       "      <td>648.794771</td>\n",
       "      <td>206965.5320</td>\n",
       "    </tr>\n",
       "    <tr>\n",
       "      <th>Binders</th>\n",
       "      <td>1523</td>\n",
       "      <td>9892.740</td>\n",
       "      <td>133.560560</td>\n",
       "      <td>203412.7330</td>\n",
       "    </tr>\n",
       "    <tr>\n",
       "      <th>Machines</th>\n",
       "      <td>115</td>\n",
       "      <td>22638.480</td>\n",
       "      <td>1645.553313</td>\n",
       "      <td>189238.6310</td>\n",
       "    </tr>\n",
       "    <tr>\n",
       "      <th>Accessories</th>\n",
       "      <td>775</td>\n",
       "      <td>3347.370</td>\n",
       "      <td>215.974604</td>\n",
       "      <td>167380.3180</td>\n",
       "    </tr>\n",
       "    <tr>\n",
       "      <th>Copiers</th>\n",
       "      <td>68</td>\n",
       "      <td>17499.950</td>\n",
       "      <td>2198.941618</td>\n",
       "      <td>149528.0300</td>\n",
       "    </tr>\n",
       "    <tr>\n",
       "      <th>Bookcases</th>\n",
       "      <td>228</td>\n",
       "      <td>4404.900</td>\n",
       "      <td>503.859633</td>\n",
       "      <td>114879.9963</td>\n",
       "    </tr>\n",
       "    <tr>\n",
       "      <th>Appliances</th>\n",
       "      <td>466</td>\n",
       "      <td>2625.120</td>\n",
       "      <td>230.755710</td>\n",
       "      <td>107532.1610</td>\n",
       "    </tr>\n",
       "    <tr>\n",
       "      <th>Furnishings</th>\n",
       "      <td>957</td>\n",
       "      <td>1336.440</td>\n",
       "      <td>95.825668</td>\n",
       "      <td>91705.1640</td>\n",
       "    </tr>\n",
       "  </tbody>\n",
       "</table>\n",
       "</div>"
      ],
      "text/plain": [
       "              count        max         mean          sum\n",
       "Sub-Category                                            \n",
       "Phones          889   4548.810   371.211534  330007.0540\n",
       "Chairs          617   4416.174   532.332420  328449.1030\n",
       "Storage         846   2934.330   264.590553  223843.6080\n",
       "Tables          319   4297.644   648.794771  206965.5320\n",
       "Binders        1523   9892.740   133.560560  203412.7330\n",
       "Machines        115  22638.480  1645.553313  189238.6310\n",
       "Accessories     775   3347.370   215.974604  167380.3180\n",
       "Copiers          68  17499.950  2198.941618  149528.0300\n",
       "Bookcases       228   4404.900   503.859633  114879.9963\n",
       "Appliances      466   2625.120   230.755710  107532.1610\n",
       "Furnishings     957   1336.440    95.825668   91705.1640"
      ]
     },
     "execution_count": 31,
     "metadata": {},
     "output_type": "execute_result"
    }
   ],
   "source": [
    "df.groupby('Sub-Category').Sales.agg(['count','max','mean','sum']).sort_values('sum',ascending=False)[:11]"
   ]
  },
  {
   "cell_type": "code",
   "execution_count": 32,
   "metadata": {},
   "outputs": [
    {
     "data": {
      "text/html": [
       "<div>\n",
       "<style scoped>\n",
       "    .dataframe tbody tr th:only-of-type {\n",
       "        vertical-align: middle;\n",
       "    }\n",
       "\n",
       "    .dataframe tbody tr th {\n",
       "        vertical-align: top;\n",
       "    }\n",
       "\n",
       "    .dataframe thead th {\n",
       "        text-align: right;\n",
       "    }\n",
       "</style>\n",
       "<table border=\"1\" class=\"dataframe\">\n",
       "  <thead>\n",
       "    <tr style=\"text-align: right;\">\n",
       "      <th></th>\n",
       "      <th></th>\n",
       "      <th>count</th>\n",
       "      <th>max</th>\n",
       "      <th>mean</th>\n",
       "      <th>sum</th>\n",
       "    </tr>\n",
       "    <tr>\n",
       "      <th>Category</th>\n",
       "      <th>Sub-Category</th>\n",
       "      <th></th>\n",
       "      <th></th>\n",
       "      <th></th>\n",
       "      <th></th>\n",
       "    </tr>\n",
       "  </thead>\n",
       "  <tbody>\n",
       "    <tr>\n",
       "      <th>Technology</th>\n",
       "      <th>Phones</th>\n",
       "      <td>889</td>\n",
       "      <td>4548.810</td>\n",
       "      <td>371.211534</td>\n",
       "      <td>330007.0540</td>\n",
       "    </tr>\n",
       "    <tr>\n",
       "      <th>Furniture</th>\n",
       "      <th>Chairs</th>\n",
       "      <td>617</td>\n",
       "      <td>4416.174</td>\n",
       "      <td>532.332420</td>\n",
       "      <td>328449.1030</td>\n",
       "    </tr>\n",
       "    <tr>\n",
       "      <th>Office Supplies</th>\n",
       "      <th>Storage</th>\n",
       "      <td>846</td>\n",
       "      <td>2934.330</td>\n",
       "      <td>264.590553</td>\n",
       "      <td>223843.6080</td>\n",
       "    </tr>\n",
       "    <tr>\n",
       "      <th>Furniture</th>\n",
       "      <th>Tables</th>\n",
       "      <td>319</td>\n",
       "      <td>4297.644</td>\n",
       "      <td>648.794771</td>\n",
       "      <td>206965.5320</td>\n",
       "    </tr>\n",
       "    <tr>\n",
       "      <th>Office Supplies</th>\n",
       "      <th>Binders</th>\n",
       "      <td>1523</td>\n",
       "      <td>9892.740</td>\n",
       "      <td>133.560560</td>\n",
       "      <td>203412.7330</td>\n",
       "    </tr>\n",
       "    <tr>\n",
       "      <th rowspan=\"3\" valign=\"top\">Technology</th>\n",
       "      <th>Machines</th>\n",
       "      <td>115</td>\n",
       "      <td>22638.480</td>\n",
       "      <td>1645.553313</td>\n",
       "      <td>189238.6310</td>\n",
       "    </tr>\n",
       "    <tr>\n",
       "      <th>Accessories</th>\n",
       "      <td>775</td>\n",
       "      <td>3347.370</td>\n",
       "      <td>215.974604</td>\n",
       "      <td>167380.3180</td>\n",
       "    </tr>\n",
       "    <tr>\n",
       "      <th>Copiers</th>\n",
       "      <td>68</td>\n",
       "      <td>17499.950</td>\n",
       "      <td>2198.941618</td>\n",
       "      <td>149528.0300</td>\n",
       "    </tr>\n",
       "    <tr>\n",
       "      <th>Furniture</th>\n",
       "      <th>Bookcases</th>\n",
       "      <td>228</td>\n",
       "      <td>4404.900</td>\n",
       "      <td>503.859633</td>\n",
       "      <td>114879.9963</td>\n",
       "    </tr>\n",
       "    <tr>\n",
       "      <th>Office Supplies</th>\n",
       "      <th>Appliances</th>\n",
       "      <td>466</td>\n",
       "      <td>2625.120</td>\n",
       "      <td>230.755710</td>\n",
       "      <td>107532.1610</td>\n",
       "    </tr>\n",
       "    <tr>\n",
       "      <th>Furniture</th>\n",
       "      <th>Furnishings</th>\n",
       "      <td>957</td>\n",
       "      <td>1336.440</td>\n",
       "      <td>95.825668</td>\n",
       "      <td>91705.1640</td>\n",
       "    </tr>\n",
       "  </tbody>\n",
       "</table>\n",
       "</div>"
      ],
      "text/plain": [
       "                              count        max         mean          sum\n",
       "Category        Sub-Category                                            \n",
       "Technology      Phones          889   4548.810   371.211534  330007.0540\n",
       "Furniture       Chairs          617   4416.174   532.332420  328449.1030\n",
       "Office Supplies Storage         846   2934.330   264.590553  223843.6080\n",
       "Furniture       Tables          319   4297.644   648.794771  206965.5320\n",
       "Office Supplies Binders        1523   9892.740   133.560560  203412.7330\n",
       "Technology      Machines        115  22638.480  1645.553313  189238.6310\n",
       "                Accessories     775   3347.370   215.974604  167380.3180\n",
       "                Copiers          68  17499.950  2198.941618  149528.0300\n",
       "Furniture       Bookcases       228   4404.900   503.859633  114879.9963\n",
       "Office Supplies Appliances      466   2625.120   230.755710  107532.1610\n",
       "Furniture       Furnishings     957   1336.440    95.825668   91705.1640"
      ]
     },
     "execution_count": 32,
     "metadata": {},
     "output_type": "execute_result"
    }
   ],
   "source": [
    "df.groupby(['Category','Sub-Category']).Sales.agg(['count','max','mean','sum']).sort_values('sum',ascending=False)[:11]"
   ]
  },
  {
   "cell_type": "code",
   "execution_count": 33,
   "metadata": {},
   "outputs": [
    {
     "data": {
      "text/html": [
       "<div>\n",
       "<style scoped>\n",
       "    .dataframe tbody tr th:only-of-type {\n",
       "        vertical-align: middle;\n",
       "    }\n",
       "\n",
       "    .dataframe tbody tr th {\n",
       "        vertical-align: top;\n",
       "    }\n",
       "\n",
       "    .dataframe thead th {\n",
       "        text-align: right;\n",
       "    }\n",
       "</style>\n",
       "<table border=\"1\" class=\"dataframe\">\n",
       "  <thead>\n",
       "    <tr style=\"text-align: right;\">\n",
       "      <th></th>\n",
       "      <th></th>\n",
       "      <th></th>\n",
       "      <th>count</th>\n",
       "      <th>max</th>\n",
       "      <th>mean</th>\n",
       "      <th>sum</th>\n",
       "    </tr>\n",
       "    <tr>\n",
       "      <th>Category</th>\n",
       "      <th>Sub-Category</th>\n",
       "      <th>Segment</th>\n",
       "      <th></th>\n",
       "      <th></th>\n",
       "      <th></th>\n",
       "      <th></th>\n",
       "    </tr>\n",
       "  </thead>\n",
       "  <tbody>\n",
       "    <tr>\n",
       "      <th>Furniture</th>\n",
       "      <th>Chairs</th>\n",
       "      <th>Consumer</th>\n",
       "      <td>329</td>\n",
       "      <td>4416.174</td>\n",
       "      <td>525.418669</td>\n",
       "      <td>172862.7420</td>\n",
       "    </tr>\n",
       "    <tr>\n",
       "      <th>Technology</th>\n",
       "      <th>Phones</th>\n",
       "      <th>Consumer</th>\n",
       "      <td>451</td>\n",
       "      <td>4548.810</td>\n",
       "      <td>376.791051</td>\n",
       "      <td>169932.7640</td>\n",
       "    </tr>\n",
       "    <tr>\n",
       "      <th rowspan=\"2\" valign=\"top\">Office Supplies</th>\n",
       "      <th>Binders</th>\n",
       "      <th>Consumer</th>\n",
       "      <td>780</td>\n",
       "      <td>9892.740</td>\n",
       "      <td>151.488473</td>\n",
       "      <td>118161.0090</td>\n",
       "    </tr>\n",
       "    <tr>\n",
       "      <th>Storage</th>\n",
       "      <th>Consumer</th>\n",
       "      <td>450</td>\n",
       "      <td>1801.632</td>\n",
       "      <td>223.316449</td>\n",
       "      <td>100492.4020</td>\n",
       "    </tr>\n",
       "    <tr>\n",
       "      <th rowspan=\"2\" valign=\"top\">Furniture</th>\n",
       "      <th>Tables</th>\n",
       "      <th>Consumer</th>\n",
       "      <td>159</td>\n",
       "      <td>4297.644</td>\n",
       "      <td>628.514434</td>\n",
       "      <td>99933.7950</td>\n",
       "    </tr>\n",
       "    <tr>\n",
       "      <th>Chairs</th>\n",
       "      <th>Corporate</th>\n",
       "      <td>188</td>\n",
       "      <td>3504.900</td>\n",
       "      <td>527.345096</td>\n",
       "      <td>99140.8780</td>\n",
       "    </tr>\n",
       "    <tr>\n",
       "      <th rowspan=\"2\" valign=\"top\">Technology</th>\n",
       "      <th>Phones</th>\n",
       "      <th>Corporate</th>\n",
       "      <td>272</td>\n",
       "      <td>3499.930</td>\n",
       "      <td>335.122846</td>\n",
       "      <td>91153.4140</td>\n",
       "    </tr>\n",
       "    <tr>\n",
       "      <th>Accessories</th>\n",
       "      <th>Consumer</th>\n",
       "      <td>408</td>\n",
       "      <td>3347.370</td>\n",
       "      <td>213.493230</td>\n",
       "      <td>87105.2380</td>\n",
       "    </tr>\n",
       "    <tr>\n",
       "      <th>Office Supplies</th>\n",
       "      <th>Storage</th>\n",
       "      <th>Corporate</th>\n",
       "      <td>260</td>\n",
       "      <td>2934.330</td>\n",
       "      <td>306.888454</td>\n",
       "      <td>79790.9980</td>\n",
       "    </tr>\n",
       "    <tr>\n",
       "      <th>Technology</th>\n",
       "      <th>Machines</th>\n",
       "      <th>Consumer</th>\n",
       "      <td>57</td>\n",
       "      <td>8749.950</td>\n",
       "      <td>1395.488158</td>\n",
       "      <td>79542.8250</td>\n",
       "    </tr>\n",
       "    <tr>\n",
       "      <th>Furniture</th>\n",
       "      <th>Tables</th>\n",
       "      <th>Corporate</th>\n",
       "      <td>106</td>\n",
       "      <td>3393.680</td>\n",
       "      <td>668.601108</td>\n",
       "      <td>70871.7175</td>\n",
       "    </tr>\n",
       "  </tbody>\n",
       "</table>\n",
       "</div>"
      ],
      "text/plain": [
       "                                        count       max         mean  \\\n",
       "Category        Sub-Category Segment                                   \n",
       "Furniture       Chairs       Consumer     329  4416.174   525.418669   \n",
       "Technology      Phones       Consumer     451  4548.810   376.791051   \n",
       "Office Supplies Binders      Consumer     780  9892.740   151.488473   \n",
       "                Storage      Consumer     450  1801.632   223.316449   \n",
       "Furniture       Tables       Consumer     159  4297.644   628.514434   \n",
       "                Chairs       Corporate    188  3504.900   527.345096   \n",
       "Technology      Phones       Corporate    272  3499.930   335.122846   \n",
       "                Accessories  Consumer     408  3347.370   213.493230   \n",
       "Office Supplies Storage      Corporate    260  2934.330   306.888454   \n",
       "Technology      Machines     Consumer      57  8749.950  1395.488158   \n",
       "Furniture       Tables       Corporate    106  3393.680   668.601108   \n",
       "\n",
       "                                                sum  \n",
       "Category        Sub-Category Segment                 \n",
       "Furniture       Chairs       Consumer   172862.7420  \n",
       "Technology      Phones       Consumer   169932.7640  \n",
       "Office Supplies Binders      Consumer   118161.0090  \n",
       "                Storage      Consumer   100492.4020  \n",
       "Furniture       Tables       Consumer    99933.7950  \n",
       "                Chairs       Corporate   99140.8780  \n",
       "Technology      Phones       Corporate   91153.4140  \n",
       "                Accessories  Consumer    87105.2380  \n",
       "Office Supplies Storage      Corporate   79790.9980  \n",
       "Technology      Machines     Consumer    79542.8250  \n",
       "Furniture       Tables       Corporate   70871.7175  "
      ]
     },
     "execution_count": 33,
     "metadata": {},
     "output_type": "execute_result"
    }
   ],
   "source": [
    "df.groupby(['Category','Sub-Category','Segment']).Sales.agg(['count','max','mean','sum']).sort_values('sum',ascending=False)[:11]"
   ]
  },
  {
   "cell_type": "code",
   "execution_count": 34,
   "metadata": {},
   "outputs": [
    {
     "data": {
      "text/html": [
       "<div>\n",
       "<style scoped>\n",
       "    .dataframe tbody tr th:only-of-type {\n",
       "        vertical-align: middle;\n",
       "    }\n",
       "\n",
       "    .dataframe tbody tr th {\n",
       "        vertical-align: top;\n",
       "    }\n",
       "\n",
       "    .dataframe thead th {\n",
       "        text-align: right;\n",
       "    }\n",
       "</style>\n",
       "<table border=\"1\" class=\"dataframe\">\n",
       "  <thead>\n",
       "    <tr style=\"text-align: right;\">\n",
       "      <th></th>\n",
       "      <th></th>\n",
       "      <th></th>\n",
       "      <th></th>\n",
       "      <th>count</th>\n",
       "      <th>max</th>\n",
       "      <th>mean</th>\n",
       "      <th>sum</th>\n",
       "    </tr>\n",
       "    <tr>\n",
       "      <th>Category</th>\n",
       "      <th>Sub-Category</th>\n",
       "      <th>Segment</th>\n",
       "      <th>Product ID</th>\n",
       "      <th></th>\n",
       "      <th></th>\n",
       "      <th></th>\n",
       "      <th></th>\n",
       "    </tr>\n",
       "  </thead>\n",
       "  <tbody>\n",
       "    <tr>\n",
       "      <th rowspan=\"4\" valign=\"top\">Technology</th>\n",
       "      <th>Copiers</th>\n",
       "      <th>Consumer</th>\n",
       "      <th>TEC-CO-10004722</th>\n",
       "      <td>3</td>\n",
       "      <td>13999.960</td>\n",
       "      <td>10966.635333</td>\n",
       "      <td>32899.9060</td>\n",
       "    </tr>\n",
       "    <tr>\n",
       "      <th rowspan=\"2\" valign=\"top\">Machines</th>\n",
       "      <th>Home Office</th>\n",
       "      <th>TEC-MA-10002412</th>\n",
       "      <td>1</td>\n",
       "      <td>22638.480</td>\n",
       "      <td>22638.480000</td>\n",
       "      <td>22638.4800</td>\n",
       "    </tr>\n",
       "    <tr>\n",
       "      <th>Consumer</th>\n",
       "      <th>TEC-MA-10001127</th>\n",
       "      <td>3</td>\n",
       "      <td>8749.950</td>\n",
       "      <td>6124.965000</td>\n",
       "      <td>18374.8950</td>\n",
       "    </tr>\n",
       "    <tr>\n",
       "      <th>Copiers</th>\n",
       "      <th>Corporate</th>\n",
       "      <th>TEC-CO-10004722</th>\n",
       "      <td>1</td>\n",
       "      <td>17499.950</td>\n",
       "      <td>17499.950000</td>\n",
       "      <td>17499.9500</td>\n",
       "    </tr>\n",
       "    <tr>\n",
       "      <th>Furniture</th>\n",
       "      <th>Chairs</th>\n",
       "      <th>Consumer</th>\n",
       "      <th>FUR-CH-10002024</th>\n",
       "      <td>6</td>\n",
       "      <td>4416.174</td>\n",
       "      <td>2897.384000</td>\n",
       "      <td>17384.3040</td>\n",
       "    </tr>\n",
       "    <tr>\n",
       "      <th rowspan=\"2\" valign=\"top\">Office Supplies</th>\n",
       "      <th rowspan=\"2\" valign=\"top\">Binders</th>\n",
       "      <th rowspan=\"2\" valign=\"top\">Consumer</th>\n",
       "      <th>OFF-BI-10000545</th>\n",
       "      <td>7</td>\n",
       "      <td>9892.740</td>\n",
       "      <td>2446.007143</td>\n",
       "      <td>17122.0500</td>\n",
       "    </tr>\n",
       "    <tr>\n",
       "      <th>OFF-BI-10003527</th>\n",
       "      <td>5</td>\n",
       "      <td>6354.950</td>\n",
       "      <td>2897.857200</td>\n",
       "      <td>14489.2860</td>\n",
       "    </tr>\n",
       "    <tr>\n",
       "      <th>Technology</th>\n",
       "      <th>Machines</th>\n",
       "      <th>Corporate</th>\n",
       "      <th>TEC-MA-10001047</th>\n",
       "      <td>2</td>\n",
       "      <td>9099.930</td>\n",
       "      <td>7149.945000</td>\n",
       "      <td>14299.8900</td>\n",
       "    </tr>\n",
       "    <tr>\n",
       "      <th>Office Supplies</th>\n",
       "      <th>Binders</th>\n",
       "      <th>Consumer</th>\n",
       "      <th>OFF-BI-10001359</th>\n",
       "      <td>7</td>\n",
       "      <td>4305.552</td>\n",
       "      <td>1870.864857</td>\n",
       "      <td>13096.0540</td>\n",
       "    </tr>\n",
       "    <tr>\n",
       "      <th>Furniture</th>\n",
       "      <th>Bookcases</th>\n",
       "      <th>Consumer</th>\n",
       "      <th>FUR-BO-10002213</th>\n",
       "      <td>10</td>\n",
       "      <td>4007.840</td>\n",
       "      <td>1292.164300</td>\n",
       "      <td>12921.6430</td>\n",
       "    </tr>\n",
       "    <tr>\n",
       "      <th rowspan=\"2\" valign=\"top\">Office Supplies</th>\n",
       "      <th>Supplies</th>\n",
       "      <th>Consumer</th>\n",
       "      <th>OFF-SU-10000151</th>\n",
       "      <td>2</td>\n",
       "      <td>8187.650</td>\n",
       "      <td>6058.861000</td>\n",
       "      <td>12117.7220</td>\n",
       "    </tr>\n",
       "    <tr>\n",
       "      <th>Binders</th>\n",
       "      <th>Consumer</th>\n",
       "      <th>OFF-BI-10004995</th>\n",
       "      <td>4</td>\n",
       "      <td>5443.960</td>\n",
       "      <td>2994.178000</td>\n",
       "      <td>11976.7120</td>\n",
       "    </tr>\n",
       "    <tr>\n",
       "      <th rowspan=\"2\" valign=\"top\">Technology</th>\n",
       "      <th>Copiers</th>\n",
       "      <th>Home Office</th>\n",
       "      <th>TEC-CO-10004722</th>\n",
       "      <td>1</td>\n",
       "      <td>11199.968</td>\n",
       "      <td>11199.968000</td>\n",
       "      <td>11199.9680</td>\n",
       "    </tr>\n",
       "    <tr>\n",
       "      <th>Phones</th>\n",
       "      <th>Consumer</th>\n",
       "      <th>TEC-PH-10001459</th>\n",
       "      <td>4</td>\n",
       "      <td>4367.896</td>\n",
       "      <td>2561.939000</td>\n",
       "      <td>10247.7560</td>\n",
       "    </tr>\n",
       "    <tr>\n",
       "      <th>Furniture</th>\n",
       "      <th>Bookcases</th>\n",
       "      <th>Consumer</th>\n",
       "      <th>FUR-BO-10004834</th>\n",
       "      <td>3</td>\n",
       "      <td>4228.704</td>\n",
       "      <td>3236.133200</td>\n",
       "      <td>9708.3996</td>\n",
       "    </tr>\n",
       "    <tr>\n",
       "      <th>Office Supplies</th>\n",
       "      <th>Binders</th>\n",
       "      <th>Consumer</th>\n",
       "      <th>OFF-BI-10001120</th>\n",
       "      <td>1</td>\n",
       "      <td>9449.950</td>\n",
       "      <td>9449.950000</td>\n",
       "      <td>9449.9500</td>\n",
       "    </tr>\n",
       "    <tr>\n",
       "      <th>Technology</th>\n",
       "      <th>Copiers</th>\n",
       "      <th>Home Office</th>\n",
       "      <th>TEC-CO-10001449</th>\n",
       "      <td>3</td>\n",
       "      <td>5399.910</td>\n",
       "      <td>3079.948667</td>\n",
       "      <td>9239.8460</td>\n",
       "    </tr>\n",
       "    <tr>\n",
       "      <th rowspan=\"2\" valign=\"top\">Office Supplies</th>\n",
       "      <th rowspan=\"2\" valign=\"top\">Supplies</th>\n",
       "      <th>Consumer</th>\n",
       "      <th>OFF-SU-10002881</th>\n",
       "      <td>4</td>\n",
       "      <td>4663.736</td>\n",
       "      <td>2082.025000</td>\n",
       "      <td>8328.1000</td>\n",
       "    </tr>\n",
       "    <tr>\n",
       "      <th>Corporate</th>\n",
       "      <th>OFF-SU-10002881</th>\n",
       "      <td>2</td>\n",
       "      <td>4164.050</td>\n",
       "      <td>4164.050000</td>\n",
       "      <td>8328.1000</td>\n",
       "    </tr>\n",
       "    <tr>\n",
       "      <th rowspan=\"2\" valign=\"top\">Technology</th>\n",
       "      <th rowspan=\"2\" valign=\"top\">Machines</th>\n",
       "      <th>Consumer</th>\n",
       "      <th>TEC-MA-10000822</th>\n",
       "      <td>1</td>\n",
       "      <td>8159.952</td>\n",
       "      <td>8159.952000</td>\n",
       "      <td>8159.9520</td>\n",
       "    </tr>\n",
       "    <tr>\n",
       "      <th>Corporate</th>\n",
       "      <th>TEC-MA-10004125</th>\n",
       "      <td>1</td>\n",
       "      <td>7999.980</td>\n",
       "      <td>7999.980000</td>\n",
       "      <td>7999.9800</td>\n",
       "    </tr>\n",
       "  </tbody>\n",
       "</table>\n",
       "</div>"
      ],
      "text/plain": [
       "                                                          count        max  \\\n",
       "Category        Sub-Category Segment     Product ID                          \n",
       "Technology      Copiers      Consumer    TEC-CO-10004722      3  13999.960   \n",
       "                Machines     Home Office TEC-MA-10002412      1  22638.480   \n",
       "                             Consumer    TEC-MA-10001127      3   8749.950   \n",
       "                Copiers      Corporate   TEC-CO-10004722      1  17499.950   \n",
       "Furniture       Chairs       Consumer    FUR-CH-10002024      6   4416.174   \n",
       "Office Supplies Binders      Consumer    OFF-BI-10000545      7   9892.740   \n",
       "                                         OFF-BI-10003527      5   6354.950   \n",
       "Technology      Machines     Corporate   TEC-MA-10001047      2   9099.930   \n",
       "Office Supplies Binders      Consumer    OFF-BI-10001359      7   4305.552   \n",
       "Furniture       Bookcases    Consumer    FUR-BO-10002213     10   4007.840   \n",
       "Office Supplies Supplies     Consumer    OFF-SU-10000151      2   8187.650   \n",
       "                Binders      Consumer    OFF-BI-10004995      4   5443.960   \n",
       "Technology      Copiers      Home Office TEC-CO-10004722      1  11199.968   \n",
       "                Phones       Consumer    TEC-PH-10001459      4   4367.896   \n",
       "Furniture       Bookcases    Consumer    FUR-BO-10004834      3   4228.704   \n",
       "Office Supplies Binders      Consumer    OFF-BI-10001120      1   9449.950   \n",
       "Technology      Copiers      Home Office TEC-CO-10001449      3   5399.910   \n",
       "Office Supplies Supplies     Consumer    OFF-SU-10002881      4   4663.736   \n",
       "                             Corporate   OFF-SU-10002881      2   4164.050   \n",
       "Technology      Machines     Consumer    TEC-MA-10000822      1   8159.952   \n",
       "                             Corporate   TEC-MA-10004125      1   7999.980   \n",
       "\n",
       "                                                                  mean  \\\n",
       "Category        Sub-Category Segment     Product ID                      \n",
       "Technology      Copiers      Consumer    TEC-CO-10004722  10966.635333   \n",
       "                Machines     Home Office TEC-MA-10002412  22638.480000   \n",
       "                             Consumer    TEC-MA-10001127   6124.965000   \n",
       "                Copiers      Corporate   TEC-CO-10004722  17499.950000   \n",
       "Furniture       Chairs       Consumer    FUR-CH-10002024   2897.384000   \n",
       "Office Supplies Binders      Consumer    OFF-BI-10000545   2446.007143   \n",
       "                                         OFF-BI-10003527   2897.857200   \n",
       "Technology      Machines     Corporate   TEC-MA-10001047   7149.945000   \n",
       "Office Supplies Binders      Consumer    OFF-BI-10001359   1870.864857   \n",
       "Furniture       Bookcases    Consumer    FUR-BO-10002213   1292.164300   \n",
       "Office Supplies Supplies     Consumer    OFF-SU-10000151   6058.861000   \n",
       "                Binders      Consumer    OFF-BI-10004995   2994.178000   \n",
       "Technology      Copiers      Home Office TEC-CO-10004722  11199.968000   \n",
       "                Phones       Consumer    TEC-PH-10001459   2561.939000   \n",
       "Furniture       Bookcases    Consumer    FUR-BO-10004834   3236.133200   \n",
       "Office Supplies Binders      Consumer    OFF-BI-10001120   9449.950000   \n",
       "Technology      Copiers      Home Office TEC-CO-10001449   3079.948667   \n",
       "Office Supplies Supplies     Consumer    OFF-SU-10002881   2082.025000   \n",
       "                             Corporate   OFF-SU-10002881   4164.050000   \n",
       "Technology      Machines     Consumer    TEC-MA-10000822   8159.952000   \n",
       "                             Corporate   TEC-MA-10004125   7999.980000   \n",
       "\n",
       "                                                                 sum  \n",
       "Category        Sub-Category Segment     Product ID                   \n",
       "Technology      Copiers      Consumer    TEC-CO-10004722  32899.9060  \n",
       "                Machines     Home Office TEC-MA-10002412  22638.4800  \n",
       "                             Consumer    TEC-MA-10001127  18374.8950  \n",
       "                Copiers      Corporate   TEC-CO-10004722  17499.9500  \n",
       "Furniture       Chairs       Consumer    FUR-CH-10002024  17384.3040  \n",
       "Office Supplies Binders      Consumer    OFF-BI-10000545  17122.0500  \n",
       "                                         OFF-BI-10003527  14489.2860  \n",
       "Technology      Machines     Corporate   TEC-MA-10001047  14299.8900  \n",
       "Office Supplies Binders      Consumer    OFF-BI-10001359  13096.0540  \n",
       "Furniture       Bookcases    Consumer    FUR-BO-10002213  12921.6430  \n",
       "Office Supplies Supplies     Consumer    OFF-SU-10000151  12117.7220  \n",
       "                Binders      Consumer    OFF-BI-10004995  11976.7120  \n",
       "Technology      Copiers      Home Office TEC-CO-10004722  11199.9680  \n",
       "                Phones       Consumer    TEC-PH-10001459  10247.7560  \n",
       "Furniture       Bookcases    Consumer    FUR-BO-10004834   9708.3996  \n",
       "Office Supplies Binders      Consumer    OFF-BI-10001120   9449.9500  \n",
       "Technology      Copiers      Home Office TEC-CO-10001449   9239.8460  \n",
       "Office Supplies Supplies     Consumer    OFF-SU-10002881   8328.1000  \n",
       "                             Corporate   OFF-SU-10002881   8328.1000  \n",
       "Technology      Machines     Consumer    TEC-MA-10000822   8159.9520  \n",
       "                             Corporate   TEC-MA-10004125   7999.9800  "
      ]
     },
     "execution_count": 34,
     "metadata": {},
     "output_type": "execute_result"
    }
   ],
   "source": [
    "df.groupby(['Category','Sub-Category','Segment','Product ID']).Sales.agg(['count','max','mean','sum']).sort_values('sum',ascending=False)[:21]"
   ]
  },
  {
   "cell_type": "code",
   "execution_count": 35,
   "metadata": {},
   "outputs": [
    {
     "data": {
      "text/html": [
       "<div>\n",
       "<style scoped>\n",
       "    .dataframe tbody tr th:only-of-type {\n",
       "        vertical-align: middle;\n",
       "    }\n",
       "\n",
       "    .dataframe tbody tr th {\n",
       "        vertical-align: top;\n",
       "    }\n",
       "\n",
       "    .dataframe thead th {\n",
       "        text-align: right;\n",
       "    }\n",
       "</style>\n",
       "<table border=\"1\" class=\"dataframe\">\n",
       "  <thead>\n",
       "    <tr style=\"text-align: right;\">\n",
       "      <th></th>\n",
       "      <th>count</th>\n",
       "      <th>max</th>\n",
       "      <th>mean</th>\n",
       "      <th>sum</th>\n",
       "    </tr>\n",
       "    <tr>\n",
       "      <th>Product ID</th>\n",
       "      <th></th>\n",
       "      <th></th>\n",
       "      <th></th>\n",
       "      <th></th>\n",
       "    </tr>\n",
       "  </thead>\n",
       "  <tbody>\n",
       "    <tr>\n",
       "      <th>TEC-CO-10004722</th>\n",
       "      <td>5</td>\n",
       "      <td>17499.950</td>\n",
       "      <td>12319.964800</td>\n",
       "      <td>61599.824</td>\n",
       "    </tr>\n",
       "    <tr>\n",
       "      <th>OFF-BI-10003527</th>\n",
       "      <td>10</td>\n",
       "      <td>6354.950</td>\n",
       "      <td>2745.338400</td>\n",
       "      <td>27453.384</td>\n",
       "    </tr>\n",
       "    <tr>\n",
       "      <th>TEC-MA-10002412</th>\n",
       "      <td>1</td>\n",
       "      <td>22638.480</td>\n",
       "      <td>22638.480000</td>\n",
       "      <td>22638.480</td>\n",
       "    </tr>\n",
       "    <tr>\n",
       "      <th>FUR-CH-10002024</th>\n",
       "      <td>8</td>\n",
       "      <td>4416.174</td>\n",
       "      <td>2733.822000</td>\n",
       "      <td>21870.576</td>\n",
       "    </tr>\n",
       "    <tr>\n",
       "      <th>OFF-BI-10001359</th>\n",
       "      <td>11</td>\n",
       "      <td>4305.552</td>\n",
       "      <td>1802.134455</td>\n",
       "      <td>19823.479</td>\n",
       "    </tr>\n",
       "    <tr>\n",
       "      <th>OFF-BI-10000545</th>\n",
       "      <td>9</td>\n",
       "      <td>9892.740</td>\n",
       "      <td>2113.833333</td>\n",
       "      <td>19024.500</td>\n",
       "    </tr>\n",
       "    <tr>\n",
       "      <th>TEC-CO-10001449</th>\n",
       "      <td>8</td>\n",
       "      <td>5399.910</td>\n",
       "      <td>2354.960750</td>\n",
       "      <td>18839.686</td>\n",
       "    </tr>\n",
       "    <tr>\n",
       "      <th>TEC-MA-10001127</th>\n",
       "      <td>3</td>\n",
       "      <td>8749.950</td>\n",
       "      <td>6124.965000</td>\n",
       "      <td>18374.895</td>\n",
       "    </tr>\n",
       "    <tr>\n",
       "      <th>OFF-BI-10004995</th>\n",
       "      <td>6</td>\n",
       "      <td>5443.960</td>\n",
       "      <td>2994.178000</td>\n",
       "      <td>17965.068</td>\n",
       "    </tr>\n",
       "    <tr>\n",
       "      <th>OFF-SU-10000151</th>\n",
       "      <td>3</td>\n",
       "      <td>8187.650</td>\n",
       "      <td>5676.770667</td>\n",
       "      <td>17030.312</td>\n",
       "    </tr>\n",
       "    <tr>\n",
       "      <th>TEC-MA-10000822</th>\n",
       "      <td>4</td>\n",
       "      <td>8159.952</td>\n",
       "      <td>4207.475250</td>\n",
       "      <td>16829.901</td>\n",
       "    </tr>\n",
       "  </tbody>\n",
       "</table>\n",
       "</div>"
      ],
      "text/plain": [
       "                 count        max          mean        sum\n",
       "Product ID                                                \n",
       "TEC-CO-10004722      5  17499.950  12319.964800  61599.824\n",
       "OFF-BI-10003527     10   6354.950   2745.338400  27453.384\n",
       "TEC-MA-10002412      1  22638.480  22638.480000  22638.480\n",
       "FUR-CH-10002024      8   4416.174   2733.822000  21870.576\n",
       "OFF-BI-10001359     11   4305.552   1802.134455  19823.479\n",
       "OFF-BI-10000545      9   9892.740   2113.833333  19024.500\n",
       "TEC-CO-10001449      8   5399.910   2354.960750  18839.686\n",
       "TEC-MA-10001127      3   8749.950   6124.965000  18374.895\n",
       "OFF-BI-10004995      6   5443.960   2994.178000  17965.068\n",
       "OFF-SU-10000151      3   8187.650   5676.770667  17030.312\n",
       "TEC-MA-10000822      4   8159.952   4207.475250  16829.901"
      ]
     },
     "execution_count": 35,
     "metadata": {},
     "output_type": "execute_result"
    }
   ],
   "source": [
    "df1=df.groupby('Product ID').Sales.agg(['count','max','mean','sum']).sort_values('sum',ascending=False)[:11]\n",
    "df1"
   ]
  },
  {
   "cell_type": "code",
   "execution_count": 36,
   "metadata": {},
   "outputs": [
    {
     "data": {
      "text/plain": [
       "count        68.000000\n",
       "max      101049.268000\n",
       "mean      65711.922655\n",
       "sum      261450.105000\n",
       "dtype: float64"
      ]
     },
     "execution_count": 36,
     "metadata": {},
     "output_type": "execute_result"
    }
   ],
   "source": [
    "df1.sum(axis = 0, skipna = True) "
   ]
  },
  {
   "cell_type": "code",
   "execution_count": 37,
   "metadata": {},
   "outputs": [
    {
     "data": {
      "text/plain": [
       "Row ID           9994\n",
       "Order ID         5009\n",
       "Order Date       1237\n",
       "Ship Date        1334\n",
       "Ship Mode           4\n",
       "Customer ID       793\n",
       "Customer_Name     793\n",
       "Segment             3\n",
       "Country             1\n",
       "City              531\n",
       "State              49\n",
       "Postal Code       631\n",
       "Region              4\n",
       "Product ID       1862\n",
       "Category            3\n",
       "Sub-Category       17\n",
       "Product Name     1850\n",
       "Sales            6144\n",
       "Quantity           14\n",
       "Discount           12\n",
       "Profit           7545\n",
       "dtype: int64"
      ]
     },
     "execution_count": 37,
     "metadata": {},
     "output_type": "execute_result"
    }
   ],
   "source": [
    "df.nunique()"
   ]
  },
  {
   "cell_type": "code",
   "execution_count": 38,
   "metadata": {},
   "outputs": [
    {
     "data": {
      "text/html": [
       "<div>\n",
       "<style scoped>\n",
       "    .dataframe tbody tr th:only-of-type {\n",
       "        vertical-align: middle;\n",
       "    }\n",
       "\n",
       "    .dataframe tbody tr th {\n",
       "        vertical-align: top;\n",
       "    }\n",
       "\n",
       "    .dataframe thead th {\n",
       "        text-align: right;\n",
       "    }\n",
       "</style>\n",
       "<table border=\"1\" class=\"dataframe\">\n",
       "  <thead>\n",
       "    <tr style=\"text-align: right;\">\n",
       "      <th></th>\n",
       "      <th>Row ID</th>\n",
       "      <th>Order ID</th>\n",
       "      <th>Order Date</th>\n",
       "      <th>Ship Date</th>\n",
       "      <th>Ship Mode</th>\n",
       "      <th>Customer ID</th>\n",
       "      <th>Customer_Name</th>\n",
       "      <th>Segment</th>\n",
       "      <th>Country</th>\n",
       "      <th>City</th>\n",
       "      <th>Postal Code</th>\n",
       "      <th>Region</th>\n",
       "      <th>Product ID</th>\n",
       "      <th>Category</th>\n",
       "      <th>Sub-Category</th>\n",
       "      <th>Product Name</th>\n",
       "      <th>Sales</th>\n",
       "      <th>Quantity</th>\n",
       "      <th>Discount</th>\n",
       "      <th>Profit</th>\n",
       "    </tr>\n",
       "    <tr>\n",
       "      <th>State</th>\n",
       "      <th></th>\n",
       "      <th></th>\n",
       "      <th></th>\n",
       "      <th></th>\n",
       "      <th></th>\n",
       "      <th></th>\n",
       "      <th></th>\n",
       "      <th></th>\n",
       "      <th></th>\n",
       "      <th></th>\n",
       "      <th></th>\n",
       "      <th></th>\n",
       "      <th></th>\n",
       "      <th></th>\n",
       "      <th></th>\n",
       "      <th></th>\n",
       "      <th></th>\n",
       "      <th></th>\n",
       "      <th></th>\n",
       "      <th></th>\n",
       "    </tr>\n",
       "  </thead>\n",
       "  <tbody>\n",
       "    <tr>\n",
       "      <th>California</th>\n",
       "      <td>2001</td>\n",
       "      <td>2001</td>\n",
       "      <td>2001</td>\n",
       "      <td>2001</td>\n",
       "      <td>2001</td>\n",
       "      <td>2001</td>\n",
       "      <td>2001</td>\n",
       "      <td>2001</td>\n",
       "      <td>2001</td>\n",
       "      <td>2001</td>\n",
       "      <td>2001</td>\n",
       "      <td>2001</td>\n",
       "      <td>2001</td>\n",
       "      <td>2001</td>\n",
       "      <td>2001</td>\n",
       "      <td>2001</td>\n",
       "      <td>2001</td>\n",
       "      <td>2001</td>\n",
       "      <td>2001</td>\n",
       "      <td>2001</td>\n",
       "    </tr>\n",
       "    <tr>\n",
       "      <th>New York</th>\n",
       "      <td>1128</td>\n",
       "      <td>1128</td>\n",
       "      <td>1128</td>\n",
       "      <td>1128</td>\n",
       "      <td>1128</td>\n",
       "      <td>1128</td>\n",
       "      <td>1128</td>\n",
       "      <td>1128</td>\n",
       "      <td>1128</td>\n",
       "      <td>1128</td>\n",
       "      <td>1128</td>\n",
       "      <td>1128</td>\n",
       "      <td>1128</td>\n",
       "      <td>1128</td>\n",
       "      <td>1128</td>\n",
       "      <td>1128</td>\n",
       "      <td>1128</td>\n",
       "      <td>1128</td>\n",
       "      <td>1128</td>\n",
       "      <td>1128</td>\n",
       "    </tr>\n",
       "    <tr>\n",
       "      <th>Texas</th>\n",
       "      <td>985</td>\n",
       "      <td>985</td>\n",
       "      <td>985</td>\n",
       "      <td>985</td>\n",
       "      <td>985</td>\n",
       "      <td>985</td>\n",
       "      <td>985</td>\n",
       "      <td>985</td>\n",
       "      <td>985</td>\n",
       "      <td>985</td>\n",
       "      <td>985</td>\n",
       "      <td>985</td>\n",
       "      <td>985</td>\n",
       "      <td>985</td>\n",
       "      <td>985</td>\n",
       "      <td>985</td>\n",
       "      <td>985</td>\n",
       "      <td>985</td>\n",
       "      <td>985</td>\n",
       "      <td>985</td>\n",
       "    </tr>\n",
       "    <tr>\n",
       "      <th>Pennsylvania</th>\n",
       "      <td>587</td>\n",
       "      <td>587</td>\n",
       "      <td>587</td>\n",
       "      <td>587</td>\n",
       "      <td>587</td>\n",
       "      <td>587</td>\n",
       "      <td>587</td>\n",
       "      <td>587</td>\n",
       "      <td>587</td>\n",
       "      <td>587</td>\n",
       "      <td>587</td>\n",
       "      <td>587</td>\n",
       "      <td>587</td>\n",
       "      <td>587</td>\n",
       "      <td>587</td>\n",
       "      <td>587</td>\n",
       "      <td>587</td>\n",
       "      <td>587</td>\n",
       "      <td>587</td>\n",
       "      <td>587</td>\n",
       "    </tr>\n",
       "    <tr>\n",
       "      <th>Washington</th>\n",
       "      <td>506</td>\n",
       "      <td>506</td>\n",
       "      <td>506</td>\n",
       "      <td>506</td>\n",
       "      <td>506</td>\n",
       "      <td>506</td>\n",
       "      <td>506</td>\n",
       "      <td>506</td>\n",
       "      <td>506</td>\n",
       "      <td>506</td>\n",
       "      <td>506</td>\n",
       "      <td>506</td>\n",
       "      <td>506</td>\n",
       "      <td>506</td>\n",
       "      <td>506</td>\n",
       "      <td>506</td>\n",
       "      <td>506</td>\n",
       "      <td>506</td>\n",
       "      <td>506</td>\n",
       "      <td>506</td>\n",
       "    </tr>\n",
       "    <tr>\n",
       "      <th>Illinois</th>\n",
       "      <td>492</td>\n",
       "      <td>492</td>\n",
       "      <td>492</td>\n",
       "      <td>492</td>\n",
       "      <td>492</td>\n",
       "      <td>492</td>\n",
       "      <td>492</td>\n",
       "      <td>492</td>\n",
       "      <td>492</td>\n",
       "      <td>492</td>\n",
       "      <td>492</td>\n",
       "      <td>492</td>\n",
       "      <td>492</td>\n",
       "      <td>492</td>\n",
       "      <td>492</td>\n",
       "      <td>492</td>\n",
       "      <td>492</td>\n",
       "      <td>492</td>\n",
       "      <td>492</td>\n",
       "      <td>492</td>\n",
       "    </tr>\n",
       "    <tr>\n",
       "      <th>Ohio</th>\n",
       "      <td>469</td>\n",
       "      <td>469</td>\n",
       "      <td>469</td>\n",
       "      <td>469</td>\n",
       "      <td>469</td>\n",
       "      <td>469</td>\n",
       "      <td>469</td>\n",
       "      <td>469</td>\n",
       "      <td>469</td>\n",
       "      <td>469</td>\n",
       "      <td>469</td>\n",
       "      <td>469</td>\n",
       "      <td>469</td>\n",
       "      <td>469</td>\n",
       "      <td>469</td>\n",
       "      <td>469</td>\n",
       "      <td>469</td>\n",
       "      <td>469</td>\n",
       "      <td>469</td>\n",
       "      <td>469</td>\n",
       "    </tr>\n",
       "    <tr>\n",
       "      <th>Florida</th>\n",
       "      <td>383</td>\n",
       "      <td>383</td>\n",
       "      <td>383</td>\n",
       "      <td>383</td>\n",
       "      <td>383</td>\n",
       "      <td>383</td>\n",
       "      <td>383</td>\n",
       "      <td>383</td>\n",
       "      <td>383</td>\n",
       "      <td>383</td>\n",
       "      <td>383</td>\n",
       "      <td>383</td>\n",
       "      <td>383</td>\n",
       "      <td>383</td>\n",
       "      <td>383</td>\n",
       "      <td>383</td>\n",
       "      <td>383</td>\n",
       "      <td>383</td>\n",
       "      <td>383</td>\n",
       "      <td>383</td>\n",
       "    </tr>\n",
       "    <tr>\n",
       "      <th>Michigan</th>\n",
       "      <td>255</td>\n",
       "      <td>255</td>\n",
       "      <td>255</td>\n",
       "      <td>255</td>\n",
       "      <td>255</td>\n",
       "      <td>255</td>\n",
       "      <td>255</td>\n",
       "      <td>255</td>\n",
       "      <td>255</td>\n",
       "      <td>255</td>\n",
       "      <td>255</td>\n",
       "      <td>255</td>\n",
       "      <td>255</td>\n",
       "      <td>255</td>\n",
       "      <td>255</td>\n",
       "      <td>255</td>\n",
       "      <td>255</td>\n",
       "      <td>255</td>\n",
       "      <td>255</td>\n",
       "      <td>255</td>\n",
       "    </tr>\n",
       "    <tr>\n",
       "      <th>North Carolina</th>\n",
       "      <td>249</td>\n",
       "      <td>249</td>\n",
       "      <td>249</td>\n",
       "      <td>249</td>\n",
       "      <td>249</td>\n",
       "      <td>249</td>\n",
       "      <td>249</td>\n",
       "      <td>249</td>\n",
       "      <td>249</td>\n",
       "      <td>249</td>\n",
       "      <td>249</td>\n",
       "      <td>249</td>\n",
       "      <td>249</td>\n",
       "      <td>249</td>\n",
       "      <td>249</td>\n",
       "      <td>249</td>\n",
       "      <td>249</td>\n",
       "      <td>249</td>\n",
       "      <td>249</td>\n",
       "      <td>249</td>\n",
       "    </tr>\n",
       "    <tr>\n",
       "      <th>Virginia</th>\n",
       "      <td>224</td>\n",
       "      <td>224</td>\n",
       "      <td>224</td>\n",
       "      <td>224</td>\n",
       "      <td>224</td>\n",
       "      <td>224</td>\n",
       "      <td>224</td>\n",
       "      <td>224</td>\n",
       "      <td>224</td>\n",
       "      <td>224</td>\n",
       "      <td>224</td>\n",
       "      <td>224</td>\n",
       "      <td>224</td>\n",
       "      <td>224</td>\n",
       "      <td>224</td>\n",
       "      <td>224</td>\n",
       "      <td>224</td>\n",
       "      <td>224</td>\n",
       "      <td>224</td>\n",
       "      <td>224</td>\n",
       "    </tr>\n",
       "  </tbody>\n",
       "</table>\n",
       "</div>"
      ],
      "text/plain": [
       "                Row ID  Order ID  Order Date  Ship Date  Ship Mode  \\\n",
       "State                                                                \n",
       "California        2001      2001        2001       2001       2001   \n",
       "New York          1128      1128        1128       1128       1128   \n",
       "Texas              985       985         985        985        985   \n",
       "Pennsylvania       587       587         587        587        587   \n",
       "Washington         506       506         506        506        506   \n",
       "Illinois           492       492         492        492        492   \n",
       "Ohio               469       469         469        469        469   \n",
       "Florida            383       383         383        383        383   \n",
       "Michigan           255       255         255        255        255   \n",
       "North Carolina     249       249         249        249        249   \n",
       "Virginia           224       224         224        224        224   \n",
       "\n",
       "                Customer ID  Customer_Name  Segment  Country  City  \\\n",
       "State                                                                \n",
       "California             2001           2001     2001     2001  2001   \n",
       "New York               1128           1128     1128     1128  1128   \n",
       "Texas                   985            985      985      985   985   \n",
       "Pennsylvania            587            587      587      587   587   \n",
       "Washington              506            506      506      506   506   \n",
       "Illinois                492            492      492      492   492   \n",
       "Ohio                    469            469      469      469   469   \n",
       "Florida                 383            383      383      383   383   \n",
       "Michigan                255            255      255      255   255   \n",
       "North Carolina          249            249      249      249   249   \n",
       "Virginia                224            224      224      224   224   \n",
       "\n",
       "                Postal Code  Region  Product ID  Category  Sub-Category  \\\n",
       "State                                                                     \n",
       "California             2001    2001        2001      2001          2001   \n",
       "New York               1128    1128        1128      1128          1128   \n",
       "Texas                   985     985         985       985           985   \n",
       "Pennsylvania            587     587         587       587           587   \n",
       "Washington              506     506         506       506           506   \n",
       "Illinois                492     492         492       492           492   \n",
       "Ohio                    469     469         469       469           469   \n",
       "Florida                 383     383         383       383           383   \n",
       "Michigan                255     255         255       255           255   \n",
       "North Carolina          249     249         249       249           249   \n",
       "Virginia                224     224         224       224           224   \n",
       "\n",
       "                Product Name  Sales  Quantity  Discount  Profit  \n",
       "State                                                            \n",
       "California              2001   2001      2001      2001    2001  \n",
       "New York                1128   1128      1128      1128    1128  \n",
       "Texas                    985    985       985       985     985  \n",
       "Pennsylvania             587    587       587       587     587  \n",
       "Washington               506    506       506       506     506  \n",
       "Illinois                 492    492       492       492     492  \n",
       "Ohio                     469    469       469       469     469  \n",
       "Florida                  383    383       383       383     383  \n",
       "Michigan                 255    255       255       255     255  \n",
       "North Carolina           249    249       249       249     249  \n",
       "Virginia                 224    224       224       224     224  "
      ]
     },
     "execution_count": 38,
     "metadata": {},
     "output_type": "execute_result"
    }
   ],
   "source": [
    "df.groupby('State').count().sort_values('Sales',ascending=False)[:11]"
   ]
  },
  {
   "cell_type": "code",
   "execution_count": 39,
   "metadata": {},
   "outputs": [
    {
     "data": {
      "text/html": [
       "<div>\n",
       "<style scoped>\n",
       "    .dataframe tbody tr th:only-of-type {\n",
       "        vertical-align: middle;\n",
       "    }\n",
       "\n",
       "    .dataframe tbody tr th {\n",
       "        vertical-align: top;\n",
       "    }\n",
       "\n",
       "    .dataframe thead th {\n",
       "        text-align: right;\n",
       "    }\n",
       "</style>\n",
       "<table border=\"1\" class=\"dataframe\">\n",
       "  <thead>\n",
       "    <tr style=\"text-align: right;\">\n",
       "      <th></th>\n",
       "      <th>Row ID</th>\n",
       "      <th>Postal Code</th>\n",
       "      <th>Sales</th>\n",
       "      <th>Quantity</th>\n",
       "      <th>Discount</th>\n",
       "      <th>Profit</th>\n",
       "    </tr>\n",
       "    <tr>\n",
       "      <th>State</th>\n",
       "      <th></th>\n",
       "      <th></th>\n",
       "      <th></th>\n",
       "      <th></th>\n",
       "      <th></th>\n",
       "      <th></th>\n",
       "    </tr>\n",
       "  </thead>\n",
       "  <tbody>\n",
       "    <tr>\n",
       "      <th>California</th>\n",
       "      <td>10137449</td>\n",
       "      <td>184382639</td>\n",
       "      <td>457687.6315</td>\n",
       "      <td>7667</td>\n",
       "      <td>145.60</td>\n",
       "      <td>76381.3871</td>\n",
       "    </tr>\n",
       "    <tr>\n",
       "      <th>New York</th>\n",
       "      <td>5452096</td>\n",
       "      <td>11835721</td>\n",
       "      <td>310876.2710</td>\n",
       "      <td>4224</td>\n",
       "      <td>62.40</td>\n",
       "      <td>74038.5486</td>\n",
       "    </tr>\n",
       "    <tr>\n",
       "      <th>Texas</th>\n",
       "      <td>5085541</td>\n",
       "      <td>75747693</td>\n",
       "      <td>170188.0458</td>\n",
       "      <td>3724</td>\n",
       "      <td>364.64</td>\n",
       "      <td>-25729.3563</td>\n",
       "    </tr>\n",
       "    <tr>\n",
       "      <th>Washington</th>\n",
       "      <td>2584458</td>\n",
       "      <td>49661687</td>\n",
       "      <td>138641.2700</td>\n",
       "      <td>1883</td>\n",
       "      <td>32.40</td>\n",
       "      <td>33402.6517</td>\n",
       "    </tr>\n",
       "    <tr>\n",
       "      <th>Pennsylvania</th>\n",
       "      <td>2768523</td>\n",
       "      <td>11190565</td>\n",
       "      <td>116511.9140</td>\n",
       "      <td>2153</td>\n",
       "      <td>192.90</td>\n",
       "      <td>-15559.9603</td>\n",
       "    </tr>\n",
       "    <tr>\n",
       "      <th>Florida</th>\n",
       "      <td>1958255</td>\n",
       "      <td>12640225</td>\n",
       "      <td>89473.7080</td>\n",
       "      <td>1379</td>\n",
       "      <td>114.65</td>\n",
       "      <td>-3399.3017</td>\n",
       "    </tr>\n",
       "    <tr>\n",
       "      <th>Illinois</th>\n",
       "      <td>2571481</td>\n",
       "      <td>29873772</td>\n",
       "      <td>80166.1010</td>\n",
       "      <td>1845</td>\n",
       "      <td>191.90</td>\n",
       "      <td>-12607.8870</td>\n",
       "    </tr>\n",
       "    <tr>\n",
       "      <th>Ohio</th>\n",
       "      <td>2355994</td>\n",
       "      <td>20579836</td>\n",
       "      <td>78258.1360</td>\n",
       "      <td>1759</td>\n",
       "      <td>152.40</td>\n",
       "      <td>-16971.3766</td>\n",
       "    </tr>\n",
       "    <tr>\n",
       "      <th>Michigan</th>\n",
       "      <td>1200167</td>\n",
       "      <td>12356103</td>\n",
       "      <td>76269.6140</td>\n",
       "      <td>946</td>\n",
       "      <td>1.80</td>\n",
       "      <td>24463.1876</td>\n",
       "    </tr>\n",
       "    <tr>\n",
       "      <th>Virginia</th>\n",
       "      <td>1218137</td>\n",
       "      <td>5124335</td>\n",
       "      <td>70636.7200</td>\n",
       "      <td>893</td>\n",
       "      <td>0.00</td>\n",
       "      <td>18597.9504</td>\n",
       "    </tr>\n",
       "    <tr>\n",
       "      <th>North Carolina</th>\n",
       "      <td>1219177</td>\n",
       "      <td>6994384</td>\n",
       "      <td>55603.1640</td>\n",
       "      <td>983</td>\n",
       "      <td>70.60</td>\n",
       "      <td>-7490.9122</td>\n",
       "    </tr>\n",
       "  </tbody>\n",
       "</table>\n",
       "</div>"
      ],
      "text/plain": [
       "                  Row ID  Postal Code        Sales  Quantity  Discount  \\\n",
       "State                                                                    \n",
       "California      10137449    184382639  457687.6315      7667    145.60   \n",
       "New York         5452096     11835721  310876.2710      4224     62.40   \n",
       "Texas            5085541     75747693  170188.0458      3724    364.64   \n",
       "Washington       2584458     49661687  138641.2700      1883     32.40   \n",
       "Pennsylvania     2768523     11190565  116511.9140      2153    192.90   \n",
       "Florida          1958255     12640225   89473.7080      1379    114.65   \n",
       "Illinois         2571481     29873772   80166.1010      1845    191.90   \n",
       "Ohio             2355994     20579836   78258.1360      1759    152.40   \n",
       "Michigan         1200167     12356103   76269.6140       946      1.80   \n",
       "Virginia         1218137      5124335   70636.7200       893      0.00   \n",
       "North Carolina   1219177      6994384   55603.1640       983     70.60   \n",
       "\n",
       "                    Profit  \n",
       "State                       \n",
       "California      76381.3871  \n",
       "New York        74038.5486  \n",
       "Texas          -25729.3563  \n",
       "Washington      33402.6517  \n",
       "Pennsylvania   -15559.9603  \n",
       "Florida         -3399.3017  \n",
       "Illinois       -12607.8870  \n",
       "Ohio           -16971.3766  \n",
       "Michigan        24463.1876  \n",
       "Virginia        18597.9504  \n",
       "North Carolina  -7490.9122  "
      ]
     },
     "execution_count": 39,
     "metadata": {},
     "output_type": "execute_result"
    }
   ],
   "source": [
    "df.groupby('State').sum().sort_values('Sales',ascending=False)[:11]"
   ]
  },
  {
   "cell_type": "code",
   "execution_count": 40,
   "metadata": {},
   "outputs": [
    {
     "data": {
      "text/html": [
       "<div>\n",
       "<style scoped>\n",
       "    .dataframe tbody tr th:only-of-type {\n",
       "        vertical-align: middle;\n",
       "    }\n",
       "\n",
       "    .dataframe tbody tr th {\n",
       "        vertical-align: top;\n",
       "    }\n",
       "\n",
       "    .dataframe thead th {\n",
       "        text-align: right;\n",
       "    }\n",
       "</style>\n",
       "<table border=\"1\" class=\"dataframe\">\n",
       "  <thead>\n",
       "    <tr style=\"text-align: right;\">\n",
       "      <th></th>\n",
       "      <th>Row ID</th>\n",
       "      <th>Postal Code</th>\n",
       "      <th>Sales</th>\n",
       "      <th>Quantity</th>\n",
       "      <th>Discount</th>\n",
       "      <th>Profit</th>\n",
       "    </tr>\n",
       "    <tr>\n",
       "      <th>City</th>\n",
       "      <th></th>\n",
       "      <th></th>\n",
       "      <th></th>\n",
       "      <th></th>\n",
       "      <th></th>\n",
       "      <th></th>\n",
       "    </tr>\n",
       "  </thead>\n",
       "  <tbody>\n",
       "    <tr>\n",
       "      <th>New York City</th>\n",
       "      <td>4450928</td>\n",
       "      <td>9168909</td>\n",
       "      <td>256368.1610</td>\n",
       "      <td>3417</td>\n",
       "      <td>51.40</td>\n",
       "      <td>62036.9837</td>\n",
       "    </tr>\n",
       "    <tr>\n",
       "      <th>Los Angeles</th>\n",
       "      <td>3785302</td>\n",
       "      <td>67252887</td>\n",
       "      <td>175851.3410</td>\n",
       "      <td>2879</td>\n",
       "      <td>55.50</td>\n",
       "      <td>30440.7579</td>\n",
       "    </tr>\n",
       "    <tr>\n",
       "      <th>Seattle</th>\n",
       "      <td>2199185</td>\n",
       "      <td>41989758</td>\n",
       "      <td>119540.7420</td>\n",
       "      <td>1590</td>\n",
       "      <td>27.80</td>\n",
       "      <td>29156.0967</td>\n",
       "    </tr>\n",
       "    <tr>\n",
       "      <th>San Francisco</th>\n",
       "      <td>2462471</td>\n",
       "      <td>47998395</td>\n",
       "      <td>112669.0920</td>\n",
       "      <td>1935</td>\n",
       "      <td>34.00</td>\n",
       "      <td>17507.3854</td>\n",
       "    </tr>\n",
       "    <tr>\n",
       "      <th>Philadelphia</th>\n",
       "      <td>2531454</td>\n",
       "      <td>10275302</td>\n",
       "      <td>109077.0130</td>\n",
       "      <td>1981</td>\n",
       "      <td>175.50</td>\n",
       "      <td>-13837.7674</td>\n",
       "    </tr>\n",
       "    <tr>\n",
       "      <th>Houston</th>\n",
       "      <td>2017125</td>\n",
       "      <td>29052387</td>\n",
       "      <td>64504.7604</td>\n",
       "      <td>1466</td>\n",
       "      <td>143.14</td>\n",
       "      <td>-10153.5485</td>\n",
       "    </tr>\n",
       "    <tr>\n",
       "      <th>Chicago</th>\n",
       "      <td>1643465</td>\n",
       "      <td>19037248</td>\n",
       "      <td>48539.5410</td>\n",
       "      <td>1132</td>\n",
       "      <td>120.50</td>\n",
       "      <td>-6654.5688</td>\n",
       "    </tr>\n",
       "    <tr>\n",
       "      <th>San Diego</th>\n",
       "      <td>827518</td>\n",
       "      <td>15650880</td>\n",
       "      <td>47521.0290</td>\n",
       "      <td>670</td>\n",
       "      <td>13.60</td>\n",
       "      <td>6377.1960</td>\n",
       "    </tr>\n",
       "    <tr>\n",
       "      <th>Jacksonville</th>\n",
       "      <td>599775</td>\n",
       "      <td>3843200</td>\n",
       "      <td>44713.1830</td>\n",
       "      <td>429</td>\n",
       "      <td>35.85</td>\n",
       "      <td>-2323.8350</td>\n",
       "    </tr>\n",
       "    <tr>\n",
       "      <th>Springfield</th>\n",
       "      <td>819285</td>\n",
       "      <td>9016357</td>\n",
       "      <td>43054.3420</td>\n",
       "      <td>649</td>\n",
       "      <td>23.20</td>\n",
       "      <td>6200.6974</td>\n",
       "    </tr>\n",
       "    <tr>\n",
       "      <th>Detroit</th>\n",
       "      <td>567542</td>\n",
       "      <td>5545741</td>\n",
       "      <td>42446.9440</td>\n",
       "      <td>441</td>\n",
       "      <td>0.80</td>\n",
       "      <td>13181.7908</td>\n",
       "    </tr>\n",
       "  </tbody>\n",
       "</table>\n",
       "</div>"
      ],
      "text/plain": [
       "                Row ID  Postal Code        Sales  Quantity  Discount  \\\n",
       "City                                                                   \n",
       "New York City  4450928      9168909  256368.1610      3417     51.40   \n",
       "Los Angeles    3785302     67252887  175851.3410      2879     55.50   \n",
       "Seattle        2199185     41989758  119540.7420      1590     27.80   \n",
       "San Francisco  2462471     47998395  112669.0920      1935     34.00   \n",
       "Philadelphia   2531454     10275302  109077.0130      1981    175.50   \n",
       "Houston        2017125     29052387   64504.7604      1466    143.14   \n",
       "Chicago        1643465     19037248   48539.5410      1132    120.50   \n",
       "San Diego       827518     15650880   47521.0290       670     13.60   \n",
       "Jacksonville    599775      3843200   44713.1830       429     35.85   \n",
       "Springfield     819285      9016357   43054.3420       649     23.20   \n",
       "Detroit         567542      5545741   42446.9440       441      0.80   \n",
       "\n",
       "                   Profit  \n",
       "City                       \n",
       "New York City  62036.9837  \n",
       "Los Angeles    30440.7579  \n",
       "Seattle        29156.0967  \n",
       "San Francisco  17507.3854  \n",
       "Philadelphia  -13837.7674  \n",
       "Houston       -10153.5485  \n",
       "Chicago        -6654.5688  \n",
       "San Diego       6377.1960  \n",
       "Jacksonville   -2323.8350  \n",
       "Springfield     6200.6974  \n",
       "Detroit        13181.7908  "
      ]
     },
     "execution_count": 40,
     "metadata": {},
     "output_type": "execute_result"
    }
   ],
   "source": [
    "df.groupby('City').sum().sort_values('Sales',ascending=False)[:11]"
   ]
  },
  {
   "cell_type": "code",
   "execution_count": 41,
   "metadata": {},
   "outputs": [
    {
     "data": {
      "text/plain": [
       "Row ID                                                    49945015\n",
       "Order ID         CA-2016-152156CA-2016-152156CA-2016-138688US-2...\n",
       "Ship Mode        Second ClassSecond ClassSecond ClassStandard C...\n",
       "Customer ID      CG-12520CG-12520DV-13045SO-20335SO-20335BH-117...\n",
       "Customer_Name    Claire GuteClaire GuteDarrin Van HuffSean O'Do...\n",
       "Segment          ConsumerConsumerCorporateConsumerConsumerConsu...\n",
       "Country          United StatesUnited StatesUnited StatesUnited ...\n",
       "City             HendersonHendersonLos AngelesFort LauderdaleFo...\n",
       "State            KentuckyKentuckyCaliforniaFloridaFloridaCalifo...\n",
       "Postal Code                                              551572652\n",
       "Region           SouthSouthWestSouthSouthWestWestWestWestWestWe...\n",
       "Product ID       FUR-BO-10001798FUR-CH-10000454OFF-LA-10000240F...\n",
       "Category         FurnitureFurnitureOffice SuppliesFurnitureOffi...\n",
       "Sub-Category     BookcasesChairsLabelsTablesStorageFurnishingsA...\n",
       "Product Name     Bush Somerset Collection BookcaseHon Deluxe Fa...\n",
       "Sales                                                   2.2972e+06\n",
       "Quantity                                                     37873\n",
       "Discount                                                   1561.09\n",
       "Profit                                                      286397\n",
       "dtype: object"
      ]
     },
     "execution_count": 41,
     "metadata": {},
     "output_type": "execute_result"
    }
   ],
   "source": [
    "df.sum(axis = 0, skipna = True) "
   ]
  },
  {
   "cell_type": "code",
   "execution_count": 42,
   "metadata": {},
   "outputs": [
    {
     "name": "stdout",
     "output_type": "stream",
     "text": [
      "Total Sales (in KUSD) is: 2297\n"
     ]
    }
   ],
   "source": [
    "Total_Sales=df.Sales.sum(axis = 0, skipna = True) \n",
    "print('Total Sales (in KUSD) is: {:.0f}'.format(Total_Sales/1000))"
   ]
  },
  {
   "cell_type": "code",
   "execution_count": 43,
   "metadata": {},
   "outputs": [
    {
     "name": "stdout",
     "output_type": "stream",
     "text": [
      "Cost of Goods Sold is (in KUSD): 2011\n"
     ]
    }
   ],
   "source": [
    "Costs=df.Sales.sum(axis = 0, skipna = True) - df.Profit.sum(axis = 0, skipna = True) \n",
    "print('Cost of Goods Sold is (in KUSD): {:.0f}'.format(Costs/1000))"
   ]
  },
  {
   "cell_type": "code",
   "execution_count": 44,
   "metadata": {},
   "outputs": [
    {
     "name": "stdout",
     "output_type": "stream",
     "text": [
      "Profit (in KUSD) is: 286\n",
      "Margin (in %) is: 12.47\n"
     ]
    }
   ],
   "source": [
    "Total_profit=df.Profit.sum(axis = 0, skipna = True) \n",
    "Margin_percent=df.Profit.sum(axis = 0, skipna = True)/df.Sales.sum(axis = 0, skipna = True) \n",
    "print('Profit (in KUSD) is: {:.0f}'.format(Total_profit/1000))\n",
    "print('Margin (in %) is: {:.2f}'.format(Margin_percent*100))"
   ]
  },
  {
   "cell_type": "code",
   "execution_count": 45,
   "metadata": {},
   "outputs": [
    {
     "data": {
      "text/plain": [
       "Region\n",
       "Central    501239.8908\n",
       "East       678781.2400\n",
       "South      391721.9050\n",
       "West       725457.8245\n",
       "Name: Sales, dtype: float64"
      ]
     },
     "execution_count": 45,
     "metadata": {},
     "output_type": "execute_result"
    }
   ],
   "source": [
    "df2=df.groupby('Region').Sales.sum()\n",
    "df2"
   ]
  },
  {
   "cell_type": "code",
   "execution_count": 46,
   "metadata": {},
   "outputs": [
    {
     "data": {
      "text/plain": [
       "501239.8908000005"
      ]
     },
     "execution_count": 46,
     "metadata": {},
     "output_type": "execute_result"
    }
   ],
   "source": [
    "df2.loc['Central']"
   ]
  },
  {
   "cell_type": "code",
   "execution_count": 47,
   "metadata": {},
   "outputs": [
    {
     "data": {
      "text/plain": [
       "Region\n",
       "Central    501239.8908\n",
       "East       678781.2400\n",
       "South      391721.9050\n",
       "West       725457.8245\n",
       "Name: Sales, dtype: float64"
      ]
     },
     "execution_count": 47,
     "metadata": {},
     "output_type": "execute_result"
    }
   ],
   "source": [
    "df2"
   ]
  },
  {
   "cell_type": "code",
   "execution_count": 48,
   "metadata": {},
   "outputs": [
    {
     "data": {
      "text/html": [
       "<div>\n",
       "<style scoped>\n",
       "    .dataframe tbody tr th:only-of-type {\n",
       "        vertical-align: middle;\n",
       "    }\n",
       "\n",
       "    .dataframe tbody tr th {\n",
       "        vertical-align: top;\n",
       "    }\n",
       "\n",
       "    .dataframe thead th {\n",
       "        text-align: right;\n",
       "    }\n",
       "</style>\n",
       "<table border=\"1\" class=\"dataframe\">\n",
       "  <thead>\n",
       "    <tr style=\"text-align: right;\">\n",
       "      <th></th>\n",
       "      <th></th>\n",
       "      <th>count</th>\n",
       "      <th>max</th>\n",
       "      <th>mean</th>\n",
       "      <th>sum</th>\n",
       "    </tr>\n",
       "    <tr>\n",
       "      <th>Order Date</th>\n",
       "      <th>Region</th>\n",
       "      <th></th>\n",
       "      <th></th>\n",
       "      <th></th>\n",
       "      <th></th>\n",
       "    </tr>\n",
       "  </thead>\n",
       "  <tbody>\n",
       "    <tr>\n",
       "      <th>2014-03-18</th>\n",
       "      <th>South</th>\n",
       "      <td>7</td>\n",
       "      <td>22638.480</td>\n",
       "      <td>3380.175429</td>\n",
       "      <td>23661.228</td>\n",
       "    </tr>\n",
       "    <tr>\n",
       "      <th>2016-10-02</th>\n",
       "      <th>Central</th>\n",
       "      <td>5</td>\n",
       "      <td>17499.950</td>\n",
       "      <td>3667.348000</td>\n",
       "      <td>18336.740</td>\n",
       "    </tr>\n",
       "    <tr>\n",
       "      <th>2017-03-23</th>\n",
       "      <th>West</th>\n",
       "      <td>5</td>\n",
       "      <td>13999.960</td>\n",
       "      <td>2859.816000</td>\n",
       "      <td>14299.080</td>\n",
       "    </tr>\n",
       "    <tr>\n",
       "      <th>2017-10-22</th>\n",
       "      <th>East</th>\n",
       "      <td>6</td>\n",
       "      <td>11199.968</td>\n",
       "      <td>2296.806333</td>\n",
       "      <td>13780.838</td>\n",
       "    </tr>\n",
       "    <tr>\n",
       "      <th>2017-11-17</th>\n",
       "      <th>East</th>\n",
       "      <td>6</td>\n",
       "      <td>10499.970</td>\n",
       "      <td>2011.498333</td>\n",
       "      <td>12068.990</td>\n",
       "    </tr>\n",
       "    <tr>\n",
       "      <th>2014-09-08</th>\n",
       "      <th>Central</th>\n",
       "      <td>11</td>\n",
       "      <td>8159.952</td>\n",
       "      <td>1068.890545</td>\n",
       "      <td>11757.796</td>\n",
       "    </tr>\n",
       "    <tr>\n",
       "      <th>2015-09-17</th>\n",
       "      <th>East</th>\n",
       "      <td>18</td>\n",
       "      <td>4228.704</td>\n",
       "      <td>630.660111</td>\n",
       "      <td>11351.882</td>\n",
       "    </tr>\n",
       "    <tr>\n",
       "      <th>2015-11-08</th>\n",
       "      <th>East</th>\n",
       "      <td>9</td>\n",
       "      <td>4643.800</td>\n",
       "      <td>1148.586222</td>\n",
       "      <td>10337.276</td>\n",
       "    </tr>\n",
       "    <tr>\n",
       "      <th>2017-11-04</th>\n",
       "      <th>South</th>\n",
       "      <td>10</td>\n",
       "      <td>7999.980</td>\n",
       "      <td>1031.350400</td>\n",
       "      <td>10313.504</td>\n",
       "    </tr>\n",
       "    <tr>\n",
       "      <th>2016-12-17</th>\n",
       "      <th>Central</th>\n",
       "      <td>3</td>\n",
       "      <td>9892.740</td>\n",
       "      <td>3370.060000</td>\n",
       "      <td>10110.180</td>\n",
       "    </tr>\n",
       "    <tr>\n",
       "      <th>2014-11-17</th>\n",
       "      <th>East</th>\n",
       "      <td>8</td>\n",
       "      <td>4007.840</td>\n",
       "      <td>1247.740500</td>\n",
       "      <td>9981.924</td>\n",
       "    </tr>\n",
       "  </tbody>\n",
       "</table>\n",
       "</div>"
      ],
      "text/plain": [
       "                    count        max         mean        sum\n",
       "Order Date Region                                           \n",
       "2014-03-18 South        7  22638.480  3380.175429  23661.228\n",
       "2016-10-02 Central      5  17499.950  3667.348000  18336.740\n",
       "2017-03-23 West         5  13999.960  2859.816000  14299.080\n",
       "2017-10-22 East         6  11199.968  2296.806333  13780.838\n",
       "2017-11-17 East         6  10499.970  2011.498333  12068.990\n",
       "2014-09-08 Central     11   8159.952  1068.890545  11757.796\n",
       "2015-09-17 East        18   4228.704   630.660111  11351.882\n",
       "2015-11-08 East         9   4643.800  1148.586222  10337.276\n",
       "2017-11-04 South       10   7999.980  1031.350400  10313.504\n",
       "2016-12-17 Central      3   9892.740  3370.060000  10110.180\n",
       "2014-11-17 East         8   4007.840  1247.740500   9981.924"
      ]
     },
     "execution_count": 48,
     "metadata": {},
     "output_type": "execute_result"
    }
   ],
   "source": [
    "df.groupby(['Order Date','Region']).Sales.agg(['count','max', 'mean','sum']).sort_values('sum',ascending=False)[:11]"
   ]
  },
  {
   "cell_type": "code",
   "execution_count": 49,
   "metadata": {},
   "outputs": [
    {
     "data": {
      "text/html": [
       "<div>\n",
       "<style scoped>\n",
       "    .dataframe tbody tr th:only-of-type {\n",
       "        vertical-align: middle;\n",
       "    }\n",
       "\n",
       "    .dataframe tbody tr th {\n",
       "        vertical-align: top;\n",
       "    }\n",
       "\n",
       "    .dataframe thead th {\n",
       "        text-align: right;\n",
       "    }\n",
       "</style>\n",
       "<table border=\"1\" class=\"dataframe\">\n",
       "  <thead>\n",
       "    <tr style=\"text-align: right;\">\n",
       "      <th></th>\n",
       "      <th>Row ID</th>\n",
       "      <th>Order ID</th>\n",
       "      <th>Order Date</th>\n",
       "      <th>Ship Date</th>\n",
       "      <th>Ship Mode</th>\n",
       "      <th>Customer ID</th>\n",
       "      <th>Customer_Name</th>\n",
       "      <th>Segment</th>\n",
       "      <th>Country</th>\n",
       "      <th>City</th>\n",
       "      <th>...</th>\n",
       "      <th>Postal Code</th>\n",
       "      <th>Region</th>\n",
       "      <th>Product ID</th>\n",
       "      <th>Category</th>\n",
       "      <th>Sub-Category</th>\n",
       "      <th>Product Name</th>\n",
       "      <th>Sales</th>\n",
       "      <th>Quantity</th>\n",
       "      <th>Discount</th>\n",
       "      <th>Profit</th>\n",
       "    </tr>\n",
       "  </thead>\n",
       "  <tbody>\n",
       "  </tbody>\n",
       "</table>\n",
       "<p>0 rows × 21 columns</p>\n",
       "</div>"
      ],
      "text/plain": [
       "Empty DataFrame\n",
       "Columns: [Row ID, Order ID, Order Date, Ship Date, Ship Mode, Customer ID, Customer_Name, Segment, Country, City, State, Postal Code, Region, Product ID, Category, Sub-Category, Product Name, Sales, Quantity, Discount, Profit]\n",
       "Index: []\n",
       "\n",
       "[0 rows x 21 columns]"
      ]
     },
     "execution_count": 49,
     "metadata": {},
     "output_type": "execute_result"
    }
   ],
   "source": [
    "df.loc['2014-1-1':'2014-12-31']"
   ]
  },
  {
   "cell_type": "code",
   "execution_count": 50,
   "metadata": {},
   "outputs": [],
   "source": [
    "df3=df.groupby(['Order Date','Region']).Sales.agg(['sum']).sort_values('sum',ascending=False)"
   ]
  },
  {
   "cell_type": "code",
   "execution_count": 51,
   "metadata": {},
   "outputs": [],
   "source": [
    "df3 = df3.reset_index()"
   ]
  },
  {
   "cell_type": "code",
   "execution_count": 52,
   "metadata": {},
   "outputs": [
    {
     "data": {
      "text/plain": [
       "Order Date    datetime64[ns]\n",
       "Region                object\n",
       "sum                  float64\n",
       "dtype: object"
      ]
     },
     "execution_count": 52,
     "metadata": {},
     "output_type": "execute_result"
    }
   ],
   "source": [
    "df3.dtypes"
   ]
  },
  {
   "cell_type": "markdown",
   "metadata": {},
   "source": [
    "### 2014"
   ]
  },
  {
   "cell_type": "code",
   "execution_count": 53,
   "metadata": {},
   "outputs": [],
   "source": [
    "df4=df3[(df3['Order Date'] >= '2014-01-01') & (df3['Order Date'] <= '2014-12-31')]"
   ]
  },
  {
   "cell_type": "code",
   "execution_count": 54,
   "metadata": {},
   "outputs": [
    {
     "data": {
      "text/plain": [
       "103838.16459999999"
      ]
     },
     "execution_count": 54,
     "metadata": {},
     "output_type": "execute_result"
    }
   ],
   "source": [
    "central2014= df4[(df4['Region'] == 'Central')].sum(skipna=True)\n",
    "central2014=float(central2014)\n",
    "central2014"
   ]
  },
  {
   "cell_type": "code",
   "execution_count": 55,
   "metadata": {},
   "outputs": [
    {
     "data": {
      "text/plain": [
       "128680.457"
      ]
     },
     "execution_count": 55,
     "metadata": {},
     "output_type": "execute_result"
    }
   ],
   "source": [
    "east2014= df4[(df4['Region'] == 'East')].sum(skipna=True)\n",
    "east2014=float(east2014)\n",
    "east2014"
   ]
  },
  {
   "cell_type": "code",
   "execution_count": 56,
   "metadata": {},
   "outputs": [
    {
     "data": {
      "text/plain": [
       "147883.033"
      ]
     },
     "execution_count": 56,
     "metadata": {},
     "output_type": "execute_result"
    }
   ],
   "source": [
    "west2014= df4[(df4['Region'] == 'West')].sum(skipna=True)\n",
    "west2014=float(west2014)\n",
    "west2014"
   ]
  },
  {
   "cell_type": "code",
   "execution_count": 57,
   "metadata": {},
   "outputs": [
    {
     "data": {
      "text/plain": [
       "103845.8435"
      ]
     },
     "execution_count": 57,
     "metadata": {},
     "output_type": "execute_result"
    }
   ],
   "source": [
    "south2014= df4[(df4['Region'] == 'South')].sum(skipna=True)\n",
    "south2014=float(south2014)\n",
    "south2014"
   ]
  },
  {
   "cell_type": "code",
   "execution_count": 58,
   "metadata": {},
   "outputs": [
    {
     "data": {
      "text/plain": [
       "[103838.16459999999, 128680.457, 103845.8435, 147883.033]"
      ]
     },
     "execution_count": 58,
     "metadata": {},
     "output_type": "execute_result"
    }
   ],
   "source": [
    "treg2014=[central2014,east2014,south2014,west2014]\n",
    "treg2014"
   ]
  },
  {
   "cell_type": "code",
   "execution_count": 59,
   "metadata": {},
   "outputs": [
    {
     "data": {
      "text/plain": [
       "<function matplotlib.pyplot.show(*args, **kw)>"
      ]
     },
     "execution_count": 59,
     "metadata": {},
     "output_type": "execute_result"
    },
    {
     "data": {
      "image/png": "[encoded data removed]",
      "text/plain": [
       "<Figure size 432x288 with 1 Axes>"
      ]
     },
     "metadata": {
      "needs_background": "light"
     },
     "output_type": "display_data"
    }
   ],
   "source": [
    "height=np.array(treg2014).T.tolist()\n",
    "bars=('central2014','east2014','south2014','west2014')\n",
    "plt.bar(range(len(height)), height,linewidth=1)\n",
    "plt.xticks(range(len(height)), bars)\n",
    "plt.title('Sales 2014 ($) per region')\n",
    "plt.show"
   ]
  },
  {
   "cell_type": "markdown",
   "metadata": {},
   "source": [
    "### 2015"
   ]
  },
  {
   "cell_type": "code",
   "execution_count": 60,
   "metadata": {},
   "outputs": [],
   "source": [
    "df4=df3[(df3['Order Date'] >= '2015-01-01') & (df3['Order Date'] <= '2015-12-31')]"
   ]
  },
  {
   "cell_type": "code",
   "execution_count": 61,
   "metadata": {},
   "outputs": [
    {
     "data": {
      "text/plain": [
       "102874.222"
      ]
     },
     "execution_count": 61,
     "metadata": {},
     "output_type": "execute_result"
    }
   ],
   "source": [
    "central2015= df4[(df4['Region'] == 'Central')].sum(skipna=True)\n",
    "central2015=float(central2015)\n",
    "central2015"
   ]
  },
  {
   "cell_type": "code",
   "execution_count": 62,
   "metadata": {},
   "outputs": [
    {
     "data": {
      "text/plain": [
       "156332.057"
      ]
     },
     "execution_count": 62,
     "metadata": {},
     "output_type": "execute_result"
    }
   ],
   "source": [
    "east2015= df4[(df4['Region'] == 'East')].sum(skipna=True)\n",
    "east2015=float(east2015)\n",
    "east2015"
   ]
  },
  {
   "cell_type": "code",
   "execution_count": 63,
   "metadata": {},
   "outputs": [
    {
     "data": {
      "text/plain": [
       "139966.2495"
      ]
     },
     "execution_count": 63,
     "metadata": {},
     "output_type": "execute_result"
    }
   ],
   "source": [
    "west2015= df4[(df4['Region'] == 'West')].sum(skipna=True)\n",
    "west2015=float(west2015)\n",
    "west2015"
   ]
  },
  {
   "cell_type": "code",
   "execution_count": 64,
   "metadata": {},
   "outputs": [
    {
     "data": {
      "text/plain": [
       "71359.98049999999"
      ]
     },
     "execution_count": 64,
     "metadata": {},
     "output_type": "execute_result"
    }
   ],
   "source": [
    "south2015= df4[(df4['Region'] == 'South')].sum(skipna=True)\n",
    "south2015=float(south2015)\n",
    "south2015"
   ]
  },
  {
   "cell_type": "code",
   "execution_count": 65,
   "metadata": {},
   "outputs": [
    {
     "data": {
      "text/plain": [
       "[102874.222, 156332.057, 71359.98049999999, 139966.2495]"
      ]
     },
     "execution_count": 65,
     "metadata": {},
     "output_type": "execute_result"
    }
   ],
   "source": [
    "treg2015=[central2015,east2015,south2015,west2015]\n",
    "treg2015"
   ]
  },
  {
   "cell_type": "code",
   "execution_count": 66,
   "metadata": {},
   "outputs": [
    {
     "data": {
      "text/plain": [
       "<function matplotlib.pyplot.show(*args, **kw)>"
      ]
     },
     "execution_count": 66,
     "metadata": {},
     "output_type": "execute_result"
    },
    {
     "data": {
      "image/png": "[encoded data removed]",
      "text/plain": [
       "<Figure size 432x288 with 1 Axes>"
      ]
     },
     "metadata": {
      "needs_background": "light"
     },
     "output_type": "display_data"
    }
   ],
   "source": [
    "height=np.array(treg2015).T.tolist()\n",
    "bars=('central2015','east2015','south2015','west2015')\n",
    "plt.bar(range(len(height)), height,linewidth=1)\n",
    "plt.xticks(range(len(height)), bars)\n",
    "plt.title('Sales 2015 (%) per region')\n",
    "plt.show"
   ]
  },
  {
   "cell_type": "markdown",
   "metadata": {},
   "source": [
    "### 2016"
   ]
  },
  {
   "cell_type": "code",
   "execution_count": 67,
   "metadata": {},
   "outputs": [],
   "source": [
    "df4=df3[(df3['Order Date'] >= '2016-01-01') & (df3['Order Date'] <= '2016-12-31')]"
   ]
  },
  {
   "cell_type": "code",
   "execution_count": 68,
   "metadata": {},
   "outputs": [
    {
     "data": {
      "text/plain": [
       "147429.376"
      ]
     },
     "execution_count": 68,
     "metadata": {},
     "output_type": "execute_result"
    }
   ],
   "source": [
    "central2016= df4[(df4['Region'] == 'Central')].sum(skipna=True)\n",
    "central2016=float(central2016)\n",
    "central2016"
   ]
  },
  {
   "cell_type": "code",
   "execution_count": 69,
   "metadata": {},
   "outputs": [
    {
     "data": {
      "text/plain": [
       "180685.82200000001"
      ]
     },
     "execution_count": 69,
     "metadata": {},
     "output_type": "execute_result"
    }
   ],
   "source": [
    "east2016= df4[(df4['Region'] == 'East')].sum(skipna=True)\n",
    "east2016=float(east2016)\n",
    "east2016"
   ]
  },
  {
   "cell_type": "code",
   "execution_count": 70,
   "metadata": {},
   "outputs": [
    {
     "data": {
      "text/plain": [
       "187480.1765"
      ]
     },
     "execution_count": 70,
     "metadata": {},
     "output_type": "execute_result"
    }
   ],
   "source": [
    "west2016= df4[(df4['Region'] == 'West')].sum(skipna=True)\n",
    "west2016=float(west2016)\n",
    "west2016"
   ]
  },
  {
   "cell_type": "code",
   "execution_count": 71,
   "metadata": {},
   "outputs": [
    {
     "data": {
      "text/plain": [
       "93610.22350000001"
      ]
     },
     "execution_count": 71,
     "metadata": {},
     "output_type": "execute_result"
    }
   ],
   "source": [
    "south2016= df4[(df4['Region'] == 'South')].sum(skipna=True)\n",
    "south2016=float(south2016)\n",
    "south2016"
   ]
  },
  {
   "cell_type": "code",
   "execution_count": 72,
   "metadata": {},
   "outputs": [
    {
     "data": {
      "text/plain": [
       "[147429.376, 180685.82200000001, 93610.22350000001, 187480.1765]"
      ]
     },
     "execution_count": 72,
     "metadata": {},
     "output_type": "execute_result"
    }
   ],
   "source": [
    "treg2016=[central2016,east2016,south2016,west2016]\n",
    "treg2016"
   ]
  },
  {
   "cell_type": "code",
   "execution_count": 73,
   "metadata": {},
   "outputs": [
    {
     "data": {
      "text/plain": [
       "<function matplotlib.pyplot.show(*args, **kw)>"
      ]
     },
     "execution_count": 73,
     "metadata": {},
     "output_type": "execute_result"
    },
    {
     "data": {
      "image/png": "[encoded data removed]",
      "text/plain": [
       "<Figure size 432x288 with 1 Axes>"
      ]
     },
     "metadata": {
      "needs_background": "light"
     },
     "output_type": "display_data"
    }
   ],
   "source": [
    "height=np.array(treg2016).T.tolist()\n",
    "bars=('central2016','east2016','south2016','west2016')\n",
    "plt.bar(range(len(height)), height,linewidth=1)\n",
    "plt.xticks(range(len(height)), bars)\n",
    "plt.title('Sales 2016 ($) per region')\n",
    "plt.show"
   ]
  },
  {
   "cell_type": "markdown",
   "metadata": {},
   "source": [
    "### 2017"
   ]
  },
  {
   "cell_type": "code",
   "execution_count": 74,
   "metadata": {},
   "outputs": [],
   "source": [
    "df4=df3[(df3['Order Date'] >= '2017-01-01') & (df3['Order Date'] <= '2017-12-31')]"
   ]
  },
  {
   "cell_type": "code",
   "execution_count": 75,
   "metadata": {},
   "outputs": [
    {
     "data": {
      "text/plain": [
       "147098.12819999998"
      ]
     },
     "execution_count": 75,
     "metadata": {},
     "output_type": "execute_result"
    }
   ],
   "source": [
    "central2017= df4[(df4['Region'] == 'Central')].sum(skipna=True)\n",
    "central2017=float(central2017)\n",
    "central2017"
   ]
  },
  {
   "cell_type": "code",
   "execution_count": 76,
   "metadata": {},
   "outputs": [
    {
     "data": {
      "text/plain": [
       "213082.90399999998"
      ]
     },
     "execution_count": 76,
     "metadata": {},
     "output_type": "execute_result"
    }
   ],
   "source": [
    "east2017= df4[(df4['Region'] == 'East')].sum(skipna=True)\n",
    "east2017=float(east2017)\n",
    "east2017"
   ]
  },
  {
   "cell_type": "code",
   "execution_count": 77,
   "metadata": {},
   "outputs": [
    {
     "data": {
      "text/plain": [
       "250128.3655"
      ]
     },
     "execution_count": 77,
     "metadata": {},
     "output_type": "execute_result"
    }
   ],
   "source": [
    "west2017= df4[(df4['Region'] == 'West')].sum(skipna=True)\n",
    "west2017=float(west2017)\n",
    "west2017"
   ]
  },
  {
   "cell_type": "code",
   "execution_count": 78,
   "metadata": {},
   "outputs": [
    {
     "data": {
      "text/plain": [
       "122905.8575"
      ]
     },
     "execution_count": 78,
     "metadata": {},
     "output_type": "execute_result"
    }
   ],
   "source": [
    "south2017= df4[(df4['Region'] == 'South')].sum(skipna=True)\n",
    "south2017=float(south2017)\n",
    "south2017"
   ]
  },
  {
   "cell_type": "code",
   "execution_count": 79,
   "metadata": {},
   "outputs": [
    {
     "data": {
      "text/plain": [
       "[147098.12819999998, 213082.90399999998, 122905.8575, 250128.3655]"
      ]
     },
     "execution_count": 79,
     "metadata": {},
     "output_type": "execute_result"
    }
   ],
   "source": [
    "treg2017=[central2017,east2017,south2017,west2017]\n",
    "treg2017"
   ]
  },
  {
   "cell_type": "code",
   "execution_count": 80,
   "metadata": {},
   "outputs": [
    {
     "data": {
      "text/plain": [
       "<function matplotlib.pyplot.show(*args, **kw)>"
      ]
     },
     "execution_count": 80,
     "metadata": {},
     "output_type": "execute_result"
    },
    {
     "data": {
      "image/png": "[encoded data removed]",
      "text/plain": [
       "<Figure size 432x288 with 1 Axes>"
      ]
     },
     "metadata": {
      "needs_background": "light"
     },
     "output_type": "display_data"
    }
   ],
   "source": [
    "height=np.array(treg2017).T.tolist()\n",
    "bars=('central2017','east2017','south2017','west2017')\n",
    "plt.bar(range(len(height)), height,linewidth=1)\n",
    "plt.xticks(range(len(height)), bars)\n",
    "plt.title('Sales 2017 ($) per region')\n",
    "plt.show"
   ]
  },
  {
   "cell_type": "markdown",
   "metadata": {},
   "source": [
    "### Total por año:"
   ]
  },
  {
   "cell_type": "code",
   "execution_count": 84,
   "metadata": {},
   "outputs": [
    {
     "data": {
      "image/png": "[encoded data removed]",
      "text/plain": [
       "<Figure size 432x288 with 1 Axes>"
      ]
     },
     "metadata": {
      "needs_background": "light"
     },
     "output_type": "display_data"
    }
   ],
   "source": [
    "bars=('central','east','south','west')\n",
    "height1=np.array(treg2014).T.tolist()\n",
    "height2=np.array(treg2015).T.tolist()\n",
    "height3=np.array(treg2016).T.tolist()\n",
    "height4=np.array(treg2017).T.tolist()\n",
    "plt.scatter(bars, height1, s=180, alpha=0.5)\n",
    "plt.scatter(bars, height2, s=180, alpha=0.5)\n",
    "plt.scatter(bars, height3, s=180, alpha=0.5)\n",
    "plt.scatter(bars, height4, s=180, alpha=0.5)\n",
    "plt.title('Sales 2014-2017 ($) per region')\n",
    "plt.show()\n"
   ]
  },
  {
   "cell_type": "code",
   "execution_count": 87,
   "metadata": {},
   "outputs": [
    {
     "name": "stdout",
     "output_type": "stream",
     "text": [
      "   Year      Central        East         West        South\n",
      "0  2014  103838.1646  128680.457  147883.0330  103845.8435\n",
      "1  2015  102874.2220  156332.057  139966.2495   71359.9805\n",
      "2  2016  147429.3760  180685.822  187480.1765   93610.2235\n",
      "3  2017  147098.1282  213082.904  250128.3655  122905.8575\n"
     ]
    },
    {
     "data": {
      "image/png": "[encoded data removed]",
      "text/plain": [
       "<Figure size 432x288 with 1 Axes>"
      ]
     },
     "metadata": {
      "needs_background": "light"
     },
     "output_type": "display_data"
    }
   ],
   "source": [
    "columns = ['Year', 'Central','East', 'West', 'South']\n",
    "Cuadro = pd.DataFrame(columns=columns)\n",
    "Cuadro = Cuadro.fillna(0) # with 0s rather than NaNs\n",
    "#print('Cuadro')\n",
    "#print(Cuadro)\n",
    "\n",
    "Cuadro.loc['0'] = pd.Series({'Year': '2014', 'Central':central2014, 'East':east2014, 'West':west2014,\n",
    "          'South':south2014})\n",
    "Cuadro.loc['1'] = pd.Series({'Year': '2015', 'Central':central2015, 'East':east2015, 'West':west2015,\n",
    "          'South':south2015})\n",
    "Cuadro.loc['2'] = pd.Series({'Year': '2016', 'Central':central2016, 'East':east2016, 'West':west2016,\n",
    "          'South':south2016})\n",
    "Cuadro.loc['3'] = pd.Series({'Year': '2017', 'Central':central2017, 'East':east2017, 'West':west2017,\n",
    "          'South':south2017})\n",
    "\n",
    "print(Cuadro)\n",
    "\n",
    "\n",
    "df = Cuadro\n",
    "fig, ax = plt.subplots()\n",
    "ax.set(title='Sales 2014-2017 ($) per region')\n",
    "ax.scatter(df['Year'], ['Central']*4, s=df['Central']/70)\n",
    "ax.scatter(df['Year'], ['East']*4, s=df['East']/70)\n",
    "ax.scatter(df['Year'], ['West']*4, s=df['West']/70)\n",
    "ax.scatter(df['Year'], ['South']*4, s=df['South']/70)\n",
    "plt.ylabel('Region')\n",
    "plt.xlabel('Year')\n",
    "plt.show()"
   ]
  },
  {
   "cell_type": "code",
   "execution_count": null,
   "metadata": {},
   "outputs": [],
   "source": []
  }
 ],
 "metadata": {
  "kernelspec": {
   "display_name": "Python 3",
   "language": "python",
   "name": "python3"
  },
  "language_info": {
   "codemirror_mode": {
    "name": "ipython",
    "version": 3
   },
   "file_extension": ".py",
   "mimetype": "text/x-python",
   "name": "python",
   "nbconvert_exporter": "python",
   "pygments_lexer": "ipython3",
   "version": "3.7.1"
  }
 },
 "nbformat": 4,
 "nbformat_minor": 2
}
